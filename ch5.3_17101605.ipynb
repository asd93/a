{
 "cells": [
  {
   "cell_type": "markdown",
   "metadata": {},
   "source": [
    "수치미분 : 단순하고 구현이 쉽지만 계산 시간이 오래 걸림.<br><br>\n",
    "오차역전파법 : 가중치 매개변수의 기울기를 효율적으로 계산하는 방법"
   ]
  },
  {
   "cell_type": "markdown",
   "metadata": {},
   "source": [
    "# 5.1 계산 그래프"
   ]
  },
  {
   "cell_type": "markdown",
   "metadata": {},
   "source": [
    "## 5.1.1 계산 그래프로 풀다"
   ]
  },
  {
   "cell_type": "markdown",
   "metadata": {},
   "source": [
    "* 계산 그래프는 계산 과정을 노드와 화살표로 표현한 것이다<br>\n",
    "* 노드는 원으로 표기하고 원 안에 연산 내용을 적는다<br>\n",
    "* 각 노드의 계산 결과는 왼쪽에서 오른쪽으로 전해진다 - **순전파**<br>"
   ]
  },
  {
   "cell_type": "markdown",
   "metadata": {},
   "source": [
    "#### 문제 : 현빈 군은 슈퍼에서 사과를 2개, 귤을 3개 샀습니다. 사과는 1개에 100원, 귤은 1개 150원입니다. 소비세가 10%일 때 지불 금액을 구하세요."
   ]
  },
  {
   "cell_type": "markdown",
   "metadata": {},
   "source": [
    "<br>\n",
    "<img width=\"500px\" height=\"100px\"/img src=\"fig 5-3.png\">"
   ]
  },
  {
   "cell_type": "markdown",
   "metadata": {},
   "source": [
    "## 5.1.2 국소적 계산"
   ]
  },
  {
   "cell_type": "markdown",
   "metadata": {},
   "source": [
    "* 계산 그래프는 '국소적 계산'을 전파함으로써 최종 결과를 얻음<br>\n",
    "전체에서 어떤 일이 벌어지든 상관 없이 자신과 관계된 정보만으로 결과를 출력할 수 있음<br>"
   ]
  },
  {
   "cell_type": "markdown",
   "metadata": {},
   "source": [
    "* 각 노드에서의 계산은 국소적 계산<br>\n",
    "단순하지만, 그 결과를 전달함으로써 전체를 구성하는 복잡한 계산을 해낼 수 있음"
   ]
  },
  {
   "cell_type": "markdown",
   "metadata": {},
   "source": [
    "## 5.1.3 왜 계산 그래프로 푸는가?"
   ]
  },
  {
   "cell_type": "markdown",
   "metadata": {},
   "source": [
    "* 전체가 복잡해도 각 노드에서는 단순한 계산으로 문제 단순화 **(국소적 계산)**\n",
    "* 중간 계산 결과를 모두 보관 가능\n",
    "* **역전파**를 통해 '미분'의 효율적 계산"
   ]
  },
  {
   "cell_type": "markdown",
   "metadata": {},
   "source": [
    "<br>\n",
    "<img width=\"500px\" height=\"100px\"/img src=\"fig 5-5.PNG\">"
   ]
  },
  {
   "cell_type": "markdown",
   "metadata": {},
   "source": [
    "**역전파**는 국소적 미분을 오른쪽에서 왼쪽으로 전달하고 미분 값을 화살표 아래에 적는다.<br>\n",
    "'사과 가격에 대한 지불 금액의 미분' 값 : 2.2"
   ]
  },
  {
   "cell_type": "markdown",
   "metadata": {},
   "source": [
    "# 5.2 연쇄법칙"
   ]
  },
  {
   "cell_type": "markdown",
   "metadata": {},
   "source": [
    "## 5.2.1 계산 그래프의 역전파"
   ]
  },
  {
   "cell_type": "markdown",
   "metadata": {},
   "source": [
    "* $y=f(x)$ 의 역전파"
   ]
  },
  {
   "cell_type": "markdown",
   "metadata": {},
   "source": [
    "<br>\n",
    "<img width=\"300px\" height=\"80px\"/img src=\"fig 5-6.PNG\">"
   ]
  },
  {
   "cell_type": "markdown",
   "metadata": {},
   "source": [
    "역전파의 계산 절차 : 신호 $\\mathbf{E}$에 노드의 국소적 미분 ($\\frac{\\partial y}{\\partial x}$)을 곱한 후 다음 노드로 전달<br>\n",
    "(국소적 미분 : 순전파 때의 $y=f(x)$ 계산의 미분($\\frac{\\partial y}{\\partial x}$) 구함)"
   ]
  },
  {
   "cell_type": "markdown",
   "metadata": {},
   "source": [
    "## 5.2.2 연쇄법칙이란?"
   ]
  },
  {
   "cell_type": "markdown",
   "metadata": {},
   "source": [
    "$z=t^{2}$<br>\n",
    "$t=x+y$"
   ]
  },
  {
   "cell_type": "markdown",
   "metadata": {},
   "source": [
    "합성 함수의 미분은 합성 함수를 구성하는 각 함수의 미분의 곱으로 나타낼 수 있다."
   ]
  },
  {
   "cell_type": "markdown",
   "metadata": {},
   "source": [
    "### $\\frac{\\partial z}{\\partial x}=\\frac{\\partial z}{\\partial t}\\frac{\\partial t}{\\partial x}$\n",
    "#### $\\frac{\\partial z}{\\partial t}=2t$\n",
    "#### $\\frac{\\partial t}{\\partial x}=1$"
   ]
  },
  {
   "cell_type": "markdown",
   "metadata": {},
   "source": [
    "### **$\\frac{\\partial z}{\\partial x}=\\frac{\\partial z}{\\partial t}\\frac{\\partial t}{\\partial x}=2t=2(x+y)$**"
   ]
  },
  {
   "cell_type": "markdown",
   "metadata": {},
   "source": [
    "## 5.2.3 연쇄법칙과 계산 그래프"
   ]
  },
  {
   "cell_type": "markdown",
   "metadata": {},
   "source": [
    "$$z=t^{2}$$<br>\n",
    "$$t=x+y$$"
   ]
  },
  {
   "cell_type": "markdown",
   "metadata": {},
   "source": [
    "<br>\n",
    "<img width=\"400px\" height=\"100px\"/img src=\"fig 5-7.PNG\">\n",
    "<img width=\"400px\" height=\"100px\"/img src=\"fig 5-8.PNG\">"
   ]
  },
  {
   "cell_type": "markdown",
   "metadata": {},
   "source": [
    "# 5.3 역전파"
   ]
  },
  {
   "cell_type": "markdown",
   "metadata": {},
   "source": [
    "## 5.3.1 덧셈 노드의 역전파"
   ]
  },
  {
   "cell_type": "markdown",
   "metadata": {},
   "source": [
    "### $z=x+y$"
   ]
  },
  {
   "cell_type": "markdown",
   "metadata": {},
   "source": [
    "$\\frac{\\partial z}{\\partial x}=1$<br>\n",
    "$\\frac{\\partial z}{\\partial y}=1$"
   ]
  },
  {
   "cell_type": "markdown",
   "metadata": {},
   "source": [
    "<br>\n",
    "<img width=\"500px\" height=\"100px\"/img src=\"fig 5-9.PNG\">"
   ]
  },
  {
   "cell_type": "markdown",
   "metadata": {},
   "source": [
    "#### 덧셈 노드의 역전파는 입력값을 그대로 출력"
   ]
  },
  {
   "cell_type": "markdown",
   "metadata": {},
   "source": [
    "## 5.3.2 곱셈 노드의 역전파"
   ]
  },
  {
   "cell_type": "markdown",
   "metadata": {},
   "source": [
    "### $z=xy$"
   ]
  },
  {
   "cell_type": "markdown",
   "metadata": {},
   "source": [
    "$\\frac{\\partial z}{\\partial x}=y$<br>\n",
    "$\\frac{\\partial z}{\\partial y}=x$"
   ]
  },
  {
   "cell_type": "markdown",
   "metadata": {},
   "source": [
    "<br>\n",
    "<img width=\"500px\" height=\"100px\"/img src=\"fig 5-12.PNG\">\n",
    "* 곱셈 노드의 역전파는 순전파 때의 입력 신호들을 '서로 바꾼 값'을 곱해서 출력\n",
    "<img width=\"500px\" height=\"100px\"/img src=\"fig 5-13.PNG\">"
   ]
  },
  {
   "cell_type": "markdown",
   "metadata": {},
   "source": [
    "* 덧셈의 역전파에서는 상류의 값을 그대로 흘려보내서 순방향 입력 값이 필요하지 않지만,곱셈의 역전파는 필요하다.<br>곱셈 노드 구현할 때에는 순전파 입력 신호를 변수에 저장해둔다."
   ]
  },
  {
   "cell_type": "markdown",
   "metadata": {},
   "source": [
    "## 5.3.3 사과 쇼핑의 예"
   ]
  },
  {
   "cell_type": "markdown",
   "metadata": {},
   "source": [
    "<br>\n",
    "<img width=\"500px\" height=\"100px\"/img src=\"fig 5-14.PNG\">"
   ]
  },
  {
   "cell_type": "markdown",
   "metadata": {},
   "source": [
    "* 사과 가격의 미분 : 2.2\n",
    "* 사과 개수의 미분 : 110\n",
    "* 소비세의 미분 : 200\n",
    "<br><br>\n",
    "* 소비세와 사과 가격이 같은 양만큼 오르면 최종 금액에는 소비세가 200의 크기로, 사과 가격이 2.2의 크기로 영향을 준다"
   ]
  }
 ],
 "metadata": {
  "kernelspec": {
   "display_name": "Python 3",
   "language": "python",
   "name": "python3"
  },
  "language_info": {
   "codemirror_mode": {
    "name": "ipython",
    "version": 3
   },
   "file_extension": ".py",
   "mimetype": "text/x-python",
   "name": "python",
   "nbconvert_exporter": "python",
   "pygments_lexer": "ipython3",
   "version": "3.7.3"
  }
 },
 "nbformat": 4,
 "nbformat_minor": 2
}
