{
 "cells": [
  {
   "cell_type": "markdown",
   "metadata": {},
   "source": [
    "# SMILES (Simplified Molecular Input Line Entry System)"
   ]
  },
  {
   "cell_type": "markdown",
   "metadata": {},
   "source": [
    "SMILES는 ASCII 문장으로 분자의 구조를 나타내기 위한 표기법이다.<br>\n",
    "복잡한 분자나 반응을 알파벳이나 숫자를 사용하여 간단하게 나타낼 수 있다.<br>\n",
    "분자 구조의 SMILES 표기는 구조를 나타내는 다른 방법들보다 차지하는 공간이 작다.\n",
    "<br><br>\n",
    "**Ex**<br>\n",
    "에탄 $C_2H_6$ : CC<br>\n",
    "에탄올 $C_2H_6O$ : CCO, OCC, C(O)C <br>\n",
    "치환반응 [I-].[Na+].C=CCBr>>[Na+].[Br-].C=CCI"
   ]
  },
  {
   "cell_type": "markdown",
   "metadata": {},
   "source": [
    "## SMILES 인코딩 규칙 설명"
   ]
  },
  {
   "cell_type": "markdown",
   "metadata": {},
   "source": [
    "### 1. Canonicalization (정규화)\n",
    "위의 에탄올의 예시와 같이 어떤 구조에 대해서 하나가 아니라 유효한 여러개의 SMILES들이 있다. 모든 SMILES 중에서 특수한 하나의 일반적인 SMILES를 만들기 위한 알고리즘이 있다. 이러한 알고리즘을 통해서 형성된 SMILES를 **unique SMILES**라고 한다.<br>\n",
    "동위원소와 카이랄을 표현하기위한 SMILES를 **isomeric SMILES**이라 한다.<br>\n",
    "'isomeric SMILES'에도 위와 같은 알고리즘을 적용해 일반적인 하나의 SMILES를 만든 것을 **absolute SMILES**라 한다.\n",
    "\n",
    "Input SMILES | Unique SMILES\n",
    "------------ | -------------  \n",
    "OCC | CCO\n",
    "[CH3][CH2][OH]  | CCO\n",
    "C-C-O | CCO\n",
    "C(O)C | CCO\n",
    "OC(=O)C(Br)(Cl)N | NC(Cl)(Br)C(=O)O\n",
    "ClC(Br)(N)C(=O)O | NC(Cl)(Br)C(=O)O\n",
    "O=C(O)C(N)(Br)Cl | NC(Cl)(Br)C(=O)O"
   ]
  },
  {
   "cell_type": "code",
   "execution_count": 1,
   "metadata": {},
   "outputs": [
    {
     "name": "stderr",
     "output_type": "stream",
     "text": [
      "RDKit WARNING: [12:07:30] Enabling RDKit 2019.09.1 jupyter extensions\n"
     ]
    }
   ],
   "source": [
    "from __future__ import print_function\n",
    "from rdkit import Chem\n",
    "from rdkit.Chem import AllChem\n",
    "\n",
    "from rdkit.Chem.Draw import IPythonConsole\n",
    "from rdkit.Chem import Draw\n",
    "# SMILES 분자를 그림으로 출력"
   ]
  },
  {
   "cell_type": "code",
   "execution_count": 9,
   "metadata": {
    "scrolled": true
   },
   "outputs": [
    {
     "data": {
      "image/png": "[encoded data removed]",
      "text/plain": [
       "<rdkit.Chem.rdchem.Mol at 0x2217a7ee1c0>"
      ]
     },
     "execution_count": 9,
     "metadata": {},
     "output_type": "execute_result"
    }
   ],
   "source": [
    "Chem.MolFromSmiles('OCC')"
   ]
  },
  {
   "cell_type": "code",
   "execution_count": 3,
   "metadata": {},
   "outputs": [
    {
     "data": {
      "text/plain": [
       "'CCO'"
      ]
     },
     "execution_count": 3,
     "metadata": {},
     "output_type": "execute_result"
    }
   ],
   "source": [
    "Chem.MolToSmiles(Chem.MolFromSmiles('OCC'))"
   ]
  },
  {
   "cell_type": "code",
   "execution_count": 4,
   "metadata": {
    "scrolled": true
   },
   "outputs": [
    {
     "data": {
      "text/plain": [
       "'CCO'"
      ]
     },
     "execution_count": 4,
     "metadata": {},
     "output_type": "execute_result"
    }
   ],
   "source": [
    "Chem.MolToSmiles(Chem.MolFromSmiles('C-C-O'))"
   ]
  },
  {
   "cell_type": "markdown",
   "metadata": {},
   "source": [
    "unique SMILES 로 출력된다."
   ]
  },
  {
   "cell_type": "markdown",
   "metadata": {},
   "source": [
    "### 2. Specification Rules\n",
    "SMILES는 공백이 없는 문자열로 이루어진다. 수소 원자는 표기에 생략될 수도 포함될 수도 있다. 방향족 구조는 직접 나타내거나 케쿨레 형태로 나타낼 수 있다.<br>\n",
    "5가지 일반적인 SMILES 인코딩 규칙이 있다. (**원자, 결합, 가지, 고리, 분리**)\n",
    "<br>\n",
    "\n",
    "#### 1) 원자\n",
    "* 원자는 원소기호를 이용해 표현한다.\n",
    "* 수소를 가지지 않는 원자는 [원소기호]로 나타낸다.\n",
    "* 'organic subset', B, C, N, O, P, S, F, Cl, Br, I 는 [] 없이 쓰이기도 한다. ( 결합된 수소 수가 결합의 원자가와 일치할 때)\n",
    "\n",
    "SMILES | name | .\n",
    "------------ | ------------- | ----------  \n",
    "C |  methane | (CH4)\n",
    "P | phosphine | (PH3)\n",
    "N | ammonia | (NH3)\n",
    "S | hydrogen sulfide | (H2S)\n",
    "O | water | (H20)\n",
    "Cl | hydrochloric acid | (HCl)\n",
    "\n",
    "\n",
    "* 지방족 탄소는 대문자 'C' 로, 방향족 탄소는 소문자 'c'로 `[]` 안에 표현한다.\n",
    "* '[', ']'속의 수소와 형식전하는 나타내어야 한다. 결합된 수소 수는 원소기호 H와 숫자로 나타낸다.\n",
    "* 전하는 `+` 혹은 `-` 로 표시되어야 한다. 명시되어 있지 않으면 전하는 0으로 가정한다. 또한 2가 양이온, 음이온 혹은 그 이상은 숫자를 이용하여 표현할 수 있다.\n",
    "\n",
    "SMILES | name\n",
    "------------|------------\n",
    "[H+]  |proton \n",
    "[Fe+2] | iron (II) cation \n",
    "[OH-] | hydroxyl anion \n",
    "[Fe++] | iron (II) cation \n",
    "[OH3+] | hydronium cation \n",
    "[NH4+] | ammonium cation \n"
   ]
  },
  {
   "cell_type": "code",
   "execution_count": 7,
   "metadata": {},
   "outputs": [
    {
     "data": {
      "image/png": "[encoded data removed]",
      "text/plain": [
       "<rdkit.Chem.rdchem.Mol at 0x2217a7e2d50>"
      ]
     },
     "execution_count": 7,
     "metadata": {},
     "output_type": "execute_result"
    }
   ],
   "source": [
    "a=Chem.MolFromSmiles('C')\n",
    "a"
   ]
  },
  {
   "cell_type": "code",
   "execution_count": 8,
   "metadata": {},
   "outputs": [
    {
     "data": {
      "image/png": "[encoded data removed]",
      "text/plain": [
       "<rdkit.Chem.rdchem.Mol at 0x2217a7e2e40>"
      ]
     },
     "execution_count": 8,
     "metadata": {},
     "output_type": "execute_result"
    }
   ],
   "source": [
    "b=Chem.MolFromSmiles('[C]')\n",
    "b"
   ]
  },
  {
   "cell_type": "markdown",
   "metadata": {},
   "source": [
    "#### 2) 결합\n",
    "* 단일결합 `-`\n",
    "* 이중결합 `=`\n",
    "* 삼중결합 `#`\n",
    "* 방향족결합 `:`\n",
    "<br>\n",
    "<br>\n",
    "* 인접 원자는 단일 또는 방향족 결합으로 서로 연결되는 것으로 가정한다. (단일 및 방향족 결합은 대부분 생략할 수 있음)\n",
    "\n",
    "SMILES | name | .\n",
    "-------|-------|--------\n",
    "CC | ethane | (CH3CH3)\n",
    "C=O | formaldehyde | (CH2O)\n",
    "C=C | ethene | (CH2=CH2)\n",
    "O=C=O | carbon dioxide | (CO2)\n",
    "COC | dimethyl ether | (CH3OCH3)\n",
    "C#N | hydrogen cyanide | (HCN)\n",
    "CCO | ethanol | (CH3CH2OH)\n",
    "[H][H] | molecular hydrogen | (H2)\n"
   ]
  },
  {
   "cell_type": "code",
   "execution_count": 10,
   "metadata": {
    "scrolled": true
   },
   "outputs": [
    {
     "data": {
      "image/png": "[encoded data removed]",
      "text/plain": [
       "<rdkit.Chem.rdchem.Mol at 0x2217a7ee300>"
      ]
     },
     "execution_count": 10,
     "metadata": {},
     "output_type": "execute_result"
    }
   ],
   "source": [
    "a=Chem.MolFromSmiles('CC')\n",
    "a"
   ]
  },
  {
   "cell_type": "code",
   "execution_count": 12,
   "metadata": {
    "scrolled": true
   },
   "outputs": [
    {
     "data": {
      "image/png": "[encoded data removed]",
      "text/plain": [
       "<rdkit.Chem.rdchem.Mol at 0x2217a7ee800>"
      ]
     },
     "execution_count": 12,
     "metadata": {},
     "output_type": "execute_result"
    }
   ],
   "source": [
    "b=Chem.MolFromSmiles('C=C')\n",
    "b"
   ]
  },
  {
   "cell_type": "markdown",
   "metadata": {},
   "source": [
    "* 6-hydroxy-1,4-hexadiene - 유효한 SMILES 3가지\n",
    "\n",
    "Structure|valid SMILES\n",
    "---------|------------\n",
    "  | C=CCC=CCO\n",
    "CH2=CH-CH2-CH=CH-CH2-OH | C=C-C-C=C-C-O\n",
    "  |OCC=CCC=C"
   ]
  },
  {
   "cell_type": "code",
   "execution_count": 13,
   "metadata": {
    "scrolled": true
   },
   "outputs": [
    {
     "data": {
      "image/png": "[encoded data removed]",
      "text/plain": [
       "<rdkit.Chem.rdchem.Mol at 0x2217a7ee170>"
      ]
     },
     "execution_count": 13,
     "metadata": {},
     "output_type": "execute_result"
    }
   ],
   "source": [
    "a=Chem.MolFromSmiles('C=CCC=CCO')\n",
    "a"
   ]
  },
  {
   "cell_type": "code",
   "execution_count": 14,
   "metadata": {
    "scrolled": true
   },
   "outputs": [
    {
     "data": {
      "image/png": "[encoded data removed]",
      "text/plain": [
       "<rdkit.Chem.rdchem.Mol at 0x2217a7ee4e0>"
      ]
     },
     "execution_count": 14,
     "metadata": {},
     "output_type": "execute_result"
    }
   ],
   "source": [
    "b=Chem.MolFromSmiles('C=C-C-C=C-C-O')\n",
    "b"
   ]
  },
  {
   "cell_type": "code",
   "execution_count": 16,
   "metadata": {},
   "outputs": [
    {
     "data": {
      "image/png": "[encoded data removed]",
      "text/plain": [
       "<rdkit.Chem.rdchem.Mol at 0x2217a7eea80>"
      ]
     },
     "execution_count": 16,
     "metadata": {},
     "output_type": "execute_result"
    }
   ],
   "source": [
    "c=Chem.MolFromSmiles('OCC=CCC=C')\n",
    "c"
   ]
  },
  {
   "cell_type": "markdown",
   "metadata": {},
   "source": [
    "유효한 SMILES 3가지 모두 같은 구조로 나타난다."
   ]
  },
  {
   "cell_type": "markdown",
   "metadata": {},
   "source": [
    "#### 3) 가지\n",
    "* 가지(치환기)는 소괄호`()`를 이용해서 나타낼 수 있으며 중첩되거나 쌓일 수 있다. \n",
    "* 소괄호는 치환기가 결합된 원자 오른쪽에 쓴다."
   ]
  },
  {
   "cell_type": "code",
   "execution_count": 17,
   "metadata": {},
   "outputs": [
    {
     "data": {
      "image/png": "[encoded data removed]",
      "text/plain": [
       "<rdkit.Chem.rdchem.Mol at 0x2217a7eec10>"
      ]
     },
     "execution_count": 17,
     "metadata": {},
     "output_type": "execute_result"
    }
   ],
   "source": [
    "# iso-butane\n",
    "a=Chem.MolFromSmiles('CC(C)C')\n",
    "a"
   ]
  },
  {
   "cell_type": "markdown",
   "metadata": {},
   "source": [
    "<img src=\"https://raw.githubusercontent.com/asd93/a/master/c/FP/p/그림1.PNG\" width=\"700\" height=\"300\">"
   ]
  },
  {
   "cell_type": "markdown",
   "metadata": {},
   "source": [
    "#### 4) 고리\n",
    "* 고리 구조는 고리에서 하나의 결합을 깨는 것으로 표시한다.\n",
    "<img src=\"https://raw.githubusercontent.com/asd93/a/master/c/FP/p/그림2.PNG\" width=\"500\" height=\"250\">\n",
    "\n",
    "* 결합을 끊은 원자 바로 오른쪽에 숫자를 표시해 고리를 나타낸다. ( (a)와 (b) 같은 분자 )\n",
    "<img src=\"https://raw.githubusercontent.com/asd93/a/master/c/FP/p/그림3.PNG\" width=\"500\" height=\"250\">\n",
    "* SMILES for cubane : **C12C3C4C1C5C4C3C25**\n",
    "<img src=\"https://raw.githubusercontent.com/asd93/a/master/c/FP/p/그림4.PNG\" width=\"500\" height=\"250\">"
   ]
  }
 ],
 "metadata": {
  "kernelspec": {
   "display_name": "Python 3",
   "language": "python",
   "name": "python3"
  },
  "language_info": {
   "codemirror_mode": {
    "name": "ipython",
    "version": 3
   },
   "file_extension": ".py",
   "mimetype": "text/x-python",
   "name": "python",
   "nbconvert_exporter": "python",
   "pygments_lexer": "ipython3",
   "version": "3.7.3"
  }
 },
 "nbformat": 4,
 "nbformat_minor": 2
}
