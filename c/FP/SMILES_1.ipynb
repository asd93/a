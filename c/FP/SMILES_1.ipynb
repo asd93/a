{
 "cells": [
  {
   "cell_type": "markdown",
   "metadata": {},
   "source": [
    "# SMILES (Simplified Molecular Input Line Entry System)"
   ]
  },
  {
   "cell_type": "markdown",
   "metadata": {},
   "source": [
    "SMILES는 ASCII 문장으로 분자의 구조를 나타내기 위한 표기법이다.<br>\n",
    "복잡한 분자나 반응을 알파벳이나 숫자를 사용하여 간단하게 나타낼 수 있다.<br>\n",
    "분자 구조의 SMILES 표기는 구조를 나타내는 다른 방법들보다 차지하는 공간이 작다.\n",
    "<br><br>\n",
    "**Ex**<br>\n",
    "에탄 $C_2H_6$ : CC<br>\n",
    "에탄올 $C_2H_6O$ : CCO, OCC, C(O)C <br>\n",
    "치환반응 [I-].[Na+].C=CCBr>>[Na+].[Br-].C=CCI"
   ]
  },
  {
   "cell_type": "markdown",
   "metadata": {},
   "source": [
    "## SMILES 인코딩 규칙 설명"
   ]
  },
  {
   "cell_type": "markdown",
   "metadata": {},
   "source": [
    "### 1. Canonicalization (정규화)\n",
    "위의 에탄올의 예시와 같이 어떤 구조에 대해서 하나가 아니라 유효한 여러개의 SMILES들이 있다. 모든 SMILES 중에서 특수한 하나의 일반적인 SMILES를 만들기 위한 알고리즘이 있다. 이러한 알고리즘을 통해서 형성된 SMILES를 **unique SMILES**라고 한다.<br>\n",
    "동위원소와 카이랄을 표현하기위한 SMILES를 **isomeric SMILES**이라 한다.<br>\n",
    "'isomeric SMILES'에도 위와 같은 알고리즘을 적용해 일반적인 하나의 SMILES를 만든 것을 **absolute SMILES**라 한다.\n",
    "\n",
    "Input SMILES | Unique SMILES\n",
    "------------ | -------------  \n",
    "OCC | CCO\n",
    "[CH3][CH2][OH]  | CCO\n",
    "C-C-O | CCO\n",
    "C(O)C | CCO\n",
    "OC(=O)C(Br)(Cl)N | NC(Cl)(Br)C(=O)O\n",
    "ClC(Br)(N)C(=O)O | NC(Cl)(Br)C(=O)O\n",
    "O=C(O)C(N)(Br)Cl | NC(Cl)(Br)C(=O)O"
   ]
  },
  {
   "cell_type": "code",
   "execution_count": 1,
   "metadata": {},
   "outputs": [
    {
     "name": "stderr",
     "output_type": "stream",
     "text": [
      "RDKit WARNING: [23:54:50] Enabling RDKit 2019.09.1 jupyter extensions\n"
     ]
    }
   ],
   "source": [
    "from __future__ import print_function\n",
    "from rdkit import Chem\n",
    "from rdkit.Chem import AllChem\n",
    "\n",
    "from rdkit.Chem.Draw import IPythonConsole\n",
    "from rdkit.Chem import Draw\n",
    "# SMILES 분자를 그림으로 출력"
   ]
  },
  {
   "cell_type": "code",
   "execution_count": 2,
   "metadata": {
    "scrolled": true
   },
   "outputs": [
    {
     "data": {
      "image/png": "[encoded data removed]",
      "text/plain": [
       "<rdkit.Chem.rdchem.Mol at 0x2572fc75d50>"
      ]
     },
     "execution_count": 2,
     "metadata": {},
     "output_type": "execute_result"
    }
   ],
   "source": [
    "Chem.MolFromSmiles('OCC')"
   ]
  },
  {
   "cell_type": "code",
   "execution_count": 3,
   "metadata": {},
   "outputs": [
    {
     "data": {
      "text/plain": [
       "'CCO'"
      ]
     },
     "execution_count": 3,
     "metadata": {},
     "output_type": "execute_result"
    }
   ],
   "source": [
    "Chem.MolToSmiles(Chem.MolFromSmiles('OCC'))"
   ]
  },
  {
   "cell_type": "code",
   "execution_count": 4,
   "metadata": {
    "scrolled": true
   },
   "outputs": [
    {
     "data": {
      "text/plain": [
       "'CCO'"
      ]
     },
     "execution_count": 4,
     "metadata": {},
     "output_type": "execute_result"
    }
   ],
   "source": [
    "Chem.MolToSmiles(Chem.MolFromSmiles('C-C-O'))"
   ]
  },
  {
   "cell_type": "markdown",
   "metadata": {},
   "source": [
    "unique SMILES 로 출력된다."
   ]
  },
  {
   "cell_type": "markdown",
   "metadata": {},
   "source": [
    "### 2. Specification Rules\n",
    "SMILES는 공백이 없는 문자열로 이루어진다. 수소 원자는 표기에 생략될 수도 포함될 수도 있다. 방향족 구조는 직접 나타내거나 케쿨레 형태로 나타낼 수 있다.<br>\n",
    "5가지 일반적인 SMILES 인코딩 규칙이 있다. (**원자, 결합, 가지, 고리, 분리**)\n",
    "<br>\n",
    "\n",
    "#### 1) 원자\n",
    "* 원자는 원소기호를 이용해 표현한다.\n",
    "* 수소를 가지지 않는 원자는 [원소기호]로 나타낸다.\n",
    "* 'organic subset', B, C, N, O, P, S, F, Cl, Br, I 는 [] 없이 쓰이기도 한다. ( 결합된 수소 수가 결합의 원자가와 일치할 때)\n",
    "\n",
    "SMILES | name | .\n",
    "------------ | ------------- | ----------  \n",
    "C |  methane | (CH4)\n",
    "P | phosphine | (PH3)\n",
    "N | ammonia | (NH3)\n",
    "S | hydrogen sulfide | (H2S)\n",
    "O | water | (H20)\n",
    "Cl | hydrochloric acid | (HCl)\n",
    "\n",
    "\n",
    "* 지방족 탄소는 대문자 'C' 로, 방향족 탄소는 소문자 'c'로 `[]` 안에 표현한다.\n",
    "* '[', ']'속의 수소와 형식전하는 나타내어야 한다. 결합된 수소 수는 원소기호 H와 숫자로 나타낸다.\n",
    "* 전하는 `+` 혹은 `-` 로 표시되어야 한다. 명시되어 있지 않으면 전하는 0으로 가정한다. 또한 2가 양이온, 음이온 혹은 그 이상은 숫자를 이용하여 표현할 수 있다.\n",
    "\n",
    "SMILES | name\n",
    "------------|------------\n",
    "[H+]  |proton \n",
    "[Fe+2] | iron (II) cation \n",
    "[OH-] | hydroxyl anion \n",
    "[Fe++] | iron (II) cation \n",
    "[OH3+] | hydronium cation \n",
    "[NH4+] | ammonium cation \n"
   ]
  },
  {
   "cell_type": "code",
   "execution_count": 5,
   "metadata": {},
   "outputs": [
    {
     "data": {
      "image/png": "[encoded data removed]",
      "text/plain": [
       "<rdkit.Chem.rdchem.Mol at 0x2572fc81ad0>"
      ]
     },
     "execution_count": 5,
     "metadata": {},
     "output_type": "execute_result"
    }
   ],
   "source": [
    "a=Chem.MolFromSmiles('C')\n",
    "a"
   ]
  },
  {
   "cell_type": "code",
   "execution_count": 6,
   "metadata": {},
   "outputs": [
    {
     "data": {
      "image/png": "[encoded data removed]",
      "text/plain": [
       "<rdkit.Chem.rdchem.Mol at 0x2572fc81e40>"
      ]
     },
     "execution_count": 6,
     "metadata": {},
     "output_type": "execute_result"
    }
   ],
   "source": [
    "b=Chem.MolFromSmiles('[C]')\n",
    "b"
   ]
  },
  {
   "cell_type": "markdown",
   "metadata": {},
   "source": [
    "#### 2) 결합\n",
    "* 단일결합 `-`\n",
    "* 이중결합 `=`\n",
    "* 삼중결합 `#`\n",
    "* 방향족결합 `:`\n",
    "<br>\n",
    "<br>\n",
    "* 인접 원자는 단일 또는 방향족 결합으로 서로 연결되는 것으로 가정한다. (단일 및 방향족 결합은 대부분 생략할 수 있음)\n",
    "\n",
    "SMILES | name | .\n",
    "-------|-------|--------\n",
    "CC | ethane | (CH3CH3)\n",
    "C=O | formaldehyde | (CH2O)\n",
    "C=C | ethene | (CH2=CH2)\n",
    "O=C=O | carbon dioxide | (CO2)\n",
    "COC | dimethyl ether | (CH3OCH3)\n",
    "C#N | hydrogen cyanide | (HCN)\n",
    "CCO | ethanol | (CH3CH2OH)\n",
    "[H][H] | molecular hydrogen | (H2)\n"
   ]
  },
  {
   "cell_type": "code",
   "execution_count": 7,
   "metadata": {
    "scrolled": true
   },
   "outputs": [
    {
     "data": {
      "image/png": "[encoded data removed]",
      "text/plain": [
       "<rdkit.Chem.rdchem.Mol at 0x2572fc91120>"
      ]
     },
     "execution_count": 7,
     "metadata": {},
     "output_type": "execute_result"
    }
   ],
   "source": [
    "a=Chem.MolFromSmiles('CC')\n",
    "a"
   ]
  },
  {
   "cell_type": "code",
   "execution_count": 8,
   "metadata": {
    "scrolled": true
   },
   "outputs": [
    {
     "data": {
      "image/png": "[encoded data removed]",
      "text/plain": [
       "<rdkit.Chem.rdchem.Mol at 0x2572fc81a30>"
      ]
     },
     "execution_count": 8,
     "metadata": {},
     "output_type": "execute_result"
    }
   ],
   "source": [
    "b=Chem.MolFromSmiles('C=C')\n",
    "b"
   ]
  },
  {
   "cell_type": "markdown",
   "metadata": {},
   "source": [
    "* 6-hydroxy-1,4-hexadiene - 유효한 SMILES 3가지\n",
    "\n",
    "Structure|valid SMILES\n",
    "---------|------------\n",
    "  | C=CCC=CCO\n",
    "CH2=CH-CH2-CH=CH-CH2-OH | C=C-C-C=C-C-O\n",
    "  |OCC=CCC=C"
   ]
  },
  {
   "cell_type": "code",
   "execution_count": 9,
   "metadata": {
    "scrolled": true
   },
   "outputs": [
    {
     "data": {
      "image/png": "[encoded data removed]",
      "text/plain": [
       "<rdkit.Chem.rdchem.Mol at 0x2572fc91260>"
      ]
     },
     "execution_count": 9,
     "metadata": {},
     "output_type": "execute_result"
    }
   ],
   "source": [
    "a=Chem.MolFromSmiles('C=CCC=CCO')\n",
    "a"
   ]
  },
  {
   "cell_type": "code",
   "execution_count": 10,
   "metadata": {
    "scrolled": true
   },
   "outputs": [
    {
     "data": {
      "image/png": "[encoded data removed]",
      "text/plain": [
       "<rdkit.Chem.rdchem.Mol at 0x2572fc91300>"
      ]
     },
     "execution_count": 10,
     "metadata": {},
     "output_type": "execute_result"
    }
   ],
   "source": [
    "b=Chem.MolFromSmiles('C=C-C-C=C-C-O')\n",
    "b"
   ]
  },
  {
   "cell_type": "code",
   "execution_count": 11,
   "metadata": {},
   "outputs": [
    {
     "data": {
      "image/png": "[encoded data removed]",
      "text/plain": [
       "<rdkit.Chem.rdchem.Mol at 0x2572fc91350>"
      ]
     },
     "execution_count": 11,
     "metadata": {},
     "output_type": "execute_result"
    }
   ],
   "source": [
    "c=Chem.MolFromSmiles('OCC=CCC=C')\n",
    "c"
   ]
  },
  {
   "cell_type": "markdown",
   "metadata": {},
   "source": [
    "유효한 SMILES 3가지 모두 같은 구조로 나타난다."
   ]
  },
  {
   "cell_type": "markdown",
   "metadata": {},
   "source": [
    "#### 3) 가지\n",
    "* 가지(치환기)는 소괄호`()`를 이용해서 나타낼 수 있으며 중첩되거나 쌓일 수 있다. \n",
    "* 소괄호는 치환기가 결합된 원자 오른쪽에 쓴다."
   ]
  },
  {
   "cell_type": "code",
   "execution_count": 12,
   "metadata": {},
   "outputs": [
    {
     "data": {
      "image/png": "[encoded data removed]",
      "text/plain": [
       "<rdkit.Chem.rdchem.Mol at 0x2572fc91530>"
      ]
     },
     "execution_count": 12,
     "metadata": {},
     "output_type": "execute_result"
    }
   ],
   "source": [
    "# iso-butane\n",
    "a=Chem.MolFromSmiles('CC(C)C')\n",
    "a"
   ]
  },
  {
   "cell_type": "markdown",
   "metadata": {},
   "source": [
    "<img src=\"https://raw.githubusercontent.com/asd93/a/master/c/FP/p/그림1.PNG\" width=\"700\" height=\"300\">"
   ]
  },
  {
   "cell_type": "markdown",
   "metadata": {},
   "source": [
    "#### 4) 고리\n",
    "* 고리 구조는 고리에서 하나의 결합을 깨는 것으로 표시한다.\n",
    "<img src=\"https://raw.githubusercontent.com/asd93/a/master/c/FP/p/그림2.PNG\" width=\"500\" height=\"250\">\n",
    "\n",
    "* 결합을 끊은 원자 바로 오른쪽에 숫자를 표시해 고리를 나타낸다. ( (a)와 (b) 같은 분자 )\n",
    "<img src=\"https://raw.githubusercontent.com/asd93/a/master/c/FP/p/그림3.PNG\" width=\"500\" height=\"250\">\n",
    "* SMILES for cubane : **C12C3C4C1C5C4C3C25**\n",
    "<img src=\"https://raw.githubusercontent.com/asd93/a/master/c/FP/p/그림4.PNG\" width=\"500\" height=\"250\">"
   ]
  },
  {
   "cell_type": "markdown",
   "metadata": {},
   "source": [
    "#### 5) 분리\n",
    "* 분리된 분자들은 `.` 을 사용해서 나누어진다.<br>\n",
    "* 이온 또는 리간드 연결 순서는 임의적이다.<br>\n",
    "> 리간드 : 착물 중에서 중심 원자를 둘러싸고 배위결합하고 있는 이온 또는 분자\n",
    "* 전체 알짜 전하를 0으로 가질 필요가 없다."
   ]
  },
  {
   "cell_type": "markdown",
   "metadata": {},
   "source": [
    "<img src=\"https://raw.githubusercontent.com/asd93/a/master/c/FP/p/그림5.PNG\" width=\"600\" height=\"250\">"
   ]
  },
  {
   "cell_type": "code",
   "execution_count": 15,
   "metadata": {},
   "outputs": [
    {
     "data": {
      "image/png": "[encoded data removed]",
      "text/plain": [
       "<rdkit.Chem.rdchem.Mol at 0x2572fc91670>"
      ]
     },
     "execution_count": 15,
     "metadata": {},
     "output_type": "execute_result"
    }
   ],
   "source": [
    "a=Chem.MolFromSmiles('[Na+].[O-]c1ccccc1')\n",
    "a"
   ]
  },
  {
   "cell_type": "code",
   "execution_count": 16,
   "metadata": {},
   "outputs": [
    {
     "data": {
      "image/png": "[encoded data removed]",
      "text/plain": [
       "<rdkit.Chem.rdchem.Mol at 0x2572fc914e0>"
      ]
     },
     "execution_count": 16,
     "metadata": {},
     "output_type": "execute_result"
    }
   ],
   "source": [
    "b=Chem.MolFromSmiles('c1cc([O-].[Na+])ccc1')\n",
    "b"
   ]
  },
  {
   "cell_type": "markdown",
   "metadata": {},
   "source": [
    "### 3. Isomeric SMILES (이성질체)\n",
    "여기서는 동위원소, 이중결합 배열, 카이랄성을 나타내기 위한 SMILES 규칙을 설명한다. 이 규칙에 따라 쓰여진 SMILES를 **isomeric SMILES**라 한다."
   ]
  },
  {
   "cell_type": "markdown",
   "metadata": {},
   "source": [
    "#### 1) 동위원소\n",
    "* [원자량+원소기호]로 나타낸다.\n",
    "\n",
    "SMILES | Name\n",
    "---------|------------\n",
    "[12C]| carbon-12\n",
    "[13C]| carbon-13\n",
    "[C]  | carbon (unspecified mass)\n",
    "[13CH4] | C-13 methane"
   ]
  },
  {
   "cell_type": "markdown",
   "metadata": {},
   "source": [
    "#### 2) 이중결합 주위의 구조\n",
    "* 이성질체에서 결합의 방향성을 `/`와 `\\`로 나타낸다. 이것은 원자들 간의 상대적인 위치를 나타낸다.\n",
    "* 이중결합에서만 의미가 있다."
   ]
  },
  {
   "cell_type": "code",
   "execution_count": 17,
   "metadata": {},
   "outputs": [],
   "source": [
    "a=Chem.MolFromSmiles('F/C=C/F')\n",
    "b=Chem.MolFromSmiles('F/C=C\\F')\n",
    "c=Chem.MolFromSmiles('F\\C=C\\F')\n",
    "d=Chem.MolFromSmiles('F\\C=C/F')"
   ]
  },
  {
   "cell_type": "code",
   "execution_count": 19,
   "metadata": {},
   "outputs": [
    {
     "data": {
      "image/png": "[encoded data removed]",
      "text/plain": [
       "<rdkit.Chem.rdchem.Mol at 0x2572fc91da0>"
      ]
     },
     "execution_count": 19,
     "metadata": {},
     "output_type": "execute_result"
    }
   ],
   "source": [
    "a"
   ]
  },
  {
   "cell_type": "code",
   "execution_count": 20,
   "metadata": {},
   "outputs": [
    {
     "data": {
      "image/png": "[encoded data removed]",
      "text/plain": [
       "<rdkit.Chem.rdchem.Mol at 0x2572fc913f0>"
      ]
     },
     "execution_count": 20,
     "metadata": {},
     "output_type": "execute_result"
    }
   ],
   "source": [
    "b"
   ]
  },
  {
   "cell_type": "code",
   "execution_count": 21,
   "metadata": {},
   "outputs": [
    {
     "data": {
      "image/png": "[encoded data removed]",
      "text/plain": [
       "<rdkit.Chem.rdchem.Mol at 0x2572fc91440>"
      ]
     },
     "execution_count": 21,
     "metadata": {},
     "output_type": "execute_result"
    }
   ],
   "source": [
    "c"
   ]
  },
  {
   "cell_type": "code",
   "execution_count": 22,
   "metadata": {},
   "outputs": [
    {
     "data": {
      "image/png": "[encoded data removed]",
      "text/plain": [
       "<rdkit.Chem.rdchem.Mol at 0x2572fc91710>"
      ]
     },
     "execution_count": 22,
     "metadata": {},
     "output_type": "execute_result"
    }
   ],
   "source": [
    "d"
   ]
  },
  {
   "cell_type": "code",
   "execution_count": 23,
   "metadata": {},
   "outputs": [
    {
     "data": {
      "image/png": "[encoded data removed]",
      "text/plain": [
       "<rdkit.Chem.rdchem.Mol at 0x2572fca20d0>"
      ]
     },
     "execution_count": 23,
     "metadata": {},
     "output_type": "execute_result"
    }
   ],
   "source": [
    "a=Chem.MolFromSmiles('F/C=C/C=CC')\n",
    "a"
   ]
  },
  {
   "cell_type": "markdown",
   "metadata": {},
   "source": [
    "F/C=C/C=CC 에서는 일부만 방향성을 나타냈다. (마지막 CC에는 방향 나타내지 않음)"
   ]
  },
  {
   "cell_type": "markdown",
   "metadata": {},
   "source": [
    "#### 3) Configuration Around Tetrahedral Centers(사면체의 중심의 구조)\n",
    "* 사면체의 중심은 카이랄 원자의 원자 기호에 카이랄이라는 명시(`@` 또는 `@@`)를 한다.\n",
    "> **카이랄(chiral)**:자신의 거울상에 포갤 수 없는 분자<br>\n",
    "카이랄성의 가장 일반적인 원인은 탄소에서 가장 많이 볼 수 있는 정사면체인 원자 때문이다.<br>\n",
    "네 개의 서로 다른 치환기체가 결합된 탄소 원자는 두 개의 주요 대칭 요소가 없고 그래서 **카이랄 중심(chiral center)**이라 불린다.\n",
    "* `@`는 이웃하는 치환기들 반시계방향\n",
    "* `@@`는 이웃하는 치환기들 시계방향\n",
    "<br><br>\n",
    "* 치환기 우선순위 결정방법 (1)~(4)\n",
    ">원자의 번호가 클수록 높은 우선순위 -> 같다면 두 번째 쌍 -> 이중 결합의 경우 결합과 같은 수만큼의 '가상'의 원자들의 단일 결합으로 취급\n",
    "* 가장 낮은 우선순위(4)를 갖는 치환기를 나로부터 가장 멀리 위치하도록 배치\n",
    "* 나머지 세 개의 치환기들을 (1)부터 (3) 순서대로 읽었을 때,<br> 시계방향으로 읽혀지면 배열을 R(`@@`) 반시계 방향이라면 S(`@`)로 배정 "
   ]
  },
  {
   "cell_type": "code",
   "execution_count": 24,
   "metadata": {},
   "outputs": [
    {
     "data": {
      "text/plain": [
       "True"
      ]
     },
     "execution_count": 24,
     "metadata": {},
     "output_type": "execute_result"
    }
   ],
   "source": [
    "m = Chem.MolFromSmiles('N[C@](C)(F)C(=O)O')\n",
    "m.HasSubstructMatch(Chem.MolFromSmiles('F[C@](N)(C)C(=O)O'),useChirality=True)\n",
    "# 구조가 같은지 확인을 위한 함수\n",
    "# useChirality=True : 입체 및 카이랄성 일치도 확인"
   ]
  },
  {
   "cell_type": "code",
   "execution_count": 25,
   "metadata": {},
   "outputs": [
    {
     "data": {
      "text/plain": [
       "True"
      ]
     },
     "execution_count": 25,
     "metadata": {},
     "output_type": "execute_result"
    }
   ],
   "source": [
    "m.HasSubstructMatch(Chem.MolFromSmiles('F[C@@](C)(N)C(=O)O'),useChirality=True)"
   ]
  },
  {
   "cell_type": "code",
   "execution_count": 26,
   "metadata": {},
   "outputs": [
    {
     "data": {
      "text/plain": [
       "True"
      ]
     },
     "execution_count": 26,
     "metadata": {},
     "output_type": "execute_result"
    }
   ],
   "source": [
    "m.HasSubstructMatch(Chem.MolFromSmiles('OC(=O)[C@@](N)(C)F'),useChirality=True)"
   ]
  },
  {
   "cell_type": "code",
   "execution_count": 27,
   "metadata": {},
   "outputs": [],
   "source": [
    "Chiral1 = Chem.MolFromSmiles('N[C@](C)(F)C(=O)O')\n",
    "Chiral2 = Chem.MolFromSmiles('N[C@@](F)(C)C(=O)O')"
   ]
  },
  {
   "cell_type": "code",
   "execution_count": 28,
   "metadata": {},
   "outputs": [
    {
     "data": {
      "text/plain": [
       "'C[C@@](N)(F)C(=O)O'"
      ]
     },
     "execution_count": 28,
     "metadata": {},
     "output_type": "execute_result"
    }
   ],
   "source": [
    "Chem.MolToSmiles(Chiral1)"
   ]
  },
  {
   "cell_type": "code",
   "execution_count": 29,
   "metadata": {},
   "outputs": [
    {
     "data": {
      "text/plain": [
       "'C[C@@](N)(F)C(=O)O'"
      ]
     },
     "execution_count": 29,
     "metadata": {},
     "output_type": "execute_result"
    }
   ],
   "source": [
    "Chem.MolToSmiles(Chiral2)"
   ]
  },
  {
   "cell_type": "markdown",
   "metadata": {},
   "source": [
    "### 4. Aromaticity (방향족)\n",
    "분자의 대칭성을 특징짓기 위해서 SMILES 같은 시스템에서 명확한 명명법을 생성할 수 있어야한다. <br>\n",
    "정확한 방향족 판단 알고리즘이 있는 경우에, 사용자가 지방족 구조를 입력하고 싶을때 방향족 구조식으로 입력할 필요가 없다.<br>\n",
    "원하는 화합물을 짧게 명시할 수 있다.<br>\n",
    "SMILES는 Hueckel 규칙의 확장된 버전을 사용하여 방향족 분자와 이온을 식별한다."
   ]
  },
  {
   "cell_type": "markdown",
   "metadata": {},
   "source": [
    "* Hueckel's Rule\n",
    "> 1.방향족 분자는 고리를 가져야한다.<br>\n",
    "2.고리의 모든 원자는 같은 평면에 있어야한다.<br>\n",
    "3.고리의 모든 원자는 fully conjugated 이어야한다.(모든 원자가 p 오비탈을 가진다.)<br>\n",
    "4.분자는 (4n+2)개의  전자를 가진다. ( n은 0 보다 크거나 같은 정수 ) <br>\n",
    "    (4번만 만족하지 않는 화합물을 **antiaromatic** 이라고 한다.)"
   ]
  },
  {
   "cell_type": "code",
   "execution_count": 31,
   "metadata": {},
   "outputs": [
    {
     "data": {
      "image/png": "[encoded data removed]",
      "text/plain": [
       "<rdkit.Chem.rdchem.Mol at 0x2572fca2440>"
      ]
     },
     "execution_count": 31,
     "metadata": {},
     "output_type": "execute_result"
    }
   ],
   "source": [
    "a=Chem.MolFromSmiles('c1ccccc1') \n",
    "a"
   ]
  },
  {
   "cell_type": "code",
   "execution_count": 32,
   "metadata": {},
   "outputs": [
    {
     "data": {
      "image/png": "[encoded data removed]",
      "text/plain": [
       "<rdkit.Chem.rdchem.Mol at 0x2572fca2620>"
      ]
     },
     "execution_count": 32,
     "metadata": {},
     "output_type": "execute_result"
    }
   ],
   "source": [
    "a=Chem.MolFromSmiles('n1ccccc1')\n",
    "a"
   ]
  },
  {
   "cell_type": "markdown",
   "metadata": {},
   "source": [
    "### 5.  반응식\n",
    "* 반응식을 표현할 때는 `>`와 앞서 배운 규칙으로 분자식을 넣어주어 표현한다.\n",
    "* 어느 위치의 원자가 직접적 변화가 생기는지 알 수 없다. -  Atom Maps 필요\n",
    "> ex) 어느 c가 반응하는지 알 수 없음 <img src=\"https://raw.githubusercontent.com/asd93/a/master/c/FP/p/그림6.PNG\n",
    "\" width=\"500\" height=\"250\">"
   ]
  },
  {
   "cell_type": "code",
   "execution_count": 34,
   "metadata": {},
   "outputs": [
    {
     "data": {
      "image/png": "[encoded data removed]",
      "text/plain": [
       "<rdkit.Chem.rdChemReactions.ChemicalReaction at 0x2572fcab170>"
      ]
     },
     "execution_count": 34,
     "metadata": {},
     "output_type": "execute_result"
    }
   ],
   "source": [
    "rxn=AllChem.ReactionFromSmarts('[I-].[Na+].C=CCBr>>[Na+].[Br-].C=CCI')\n",
    "rxn"
   ]
  },
  {
   "cell_type": "code",
   "execution_count": 35,
   "metadata": {},
   "outputs": [
    {
     "data": {
      "image/png": "[encoded data removed]",
      "text/plain": [
       "<rdkit.Chem.rdChemReactions.ChemicalReaction at 0x2572fd65530>"
      ]
     },
     "execution_count": 35,
     "metadata": {},
     "output_type": "execute_result"
    }
   ],
   "source": [
    "rxn = AllChem.ReactionFromSmarts('C=CCBr>>C=CCI')\n",
    "rxn"
   ]
  },
  {
   "cell_type": "code",
   "execution_count": 36,
   "metadata": {},
   "outputs": [
    {
     "data": {
      "image/png": "[encoded data removed]",
      "text/plain": [
       "<rdkit.Chem.rdChemReactions.ChemicalReaction at 0x2572fd65490>"
      ]
     },
     "execution_count": 36,
     "metadata": {},
     "output_type": "execute_result"
    }
   ],
   "source": [
    "rxn = AllChem.ReactionFromSmarts('C=CCBr.[Na+].[I-] > CC(=O)C > C=CCI.[Na+].[Br-] ')\n",
    "rxn"
   ]
  },
  {
   "cell_type": "markdown",
   "metadata": {},
   "source": [
    "Atom map은 컴퓨터가 반응물과 생성물 사이의 같은 원자임을 알 수 있게 표현해주는 방법이다. \n",
    "* 원하는 원자의 뒤에 :와 숫자를 이용해 표시 ( [CH3:2] 는 H를 3개 가지고 있는 탄소에 2번을 부여함을 의미한다. )\n",
    "* 부여한 숫자는 추가적인 성질을 나타내지 않는다. 단지 구분짓기 위함 ( 단, 모든 원자에 같은 숫자를 부여할 경우는 제외. )"
   ]
  },
  {
   "cell_type": "code",
   "execution_count": 37,
   "metadata": {},
   "outputs": [
    {
     "data": {
      "image/png": "[encoded data removed]",
      "text/plain": [
       "<rdkit.Chem.rdchem.Mol at 0x2572fd655d0>"
      ]
     },
     "execution_count": 37,
     "metadata": {},
     "output_type": "execute_result"
    }
   ],
   "source": [
    "a=AllChem.MolFromSmiles('[CH2:1]=[CH:1][CH2:1][CH2:1][C:1](C)[CH2:1]')\n",
    "a"
   ]
  },
  {
   "cell_type": "code",
   "execution_count": 38,
   "metadata": {},
   "outputs": [
    {
     "data": {
      "image/png": "[encoded data removed]",
      "text/plain": [
       "<rdkit.Chem.rdchem.Mol at 0x2572fd654e0>"
      ]
     },
     "execution_count": 38,
     "metadata": {},
     "output_type": "execute_result"
    }
   ],
   "source": [
    "a=AllChem.MolFromSmarts('[CH2:1]=[CH:2][CH2:1][CH2:3][C:4](C)[CH2:3]')\n",
    "a"
   ]
  },
  {
   "cell_type": "markdown",
   "metadata": {},
   "source": [
    "반응에 대한 정보가 부족한 경우 입력하면 안된다. 확실한 정보에 대해서만 부분적으로 mapping 한다.<br>\n",
    "모든 원자에 같은 방법으로 mapping 할 수 있다.<br>\n",
    "Atom Map은 unique SMILES에서 나타나지 않는다. "
   ]
  }
 ],
 "metadata": {
  "kernelspec": {
   "display_name": "Python 3",
   "language": "python",
   "name": "python3"
  },
  "language_info": {
   "codemirror_mode": {
    "name": "ipython",
    "version": 3
   },
   "file_extension": ".py",
   "mimetype": "text/x-python",
   "name": "python",
   "nbconvert_exporter": "python",
   "pygments_lexer": "ipython3",
   "version": "3.7.3"
  }
 },
 "nbformat": 4,
 "nbformat_minor": 2
}
