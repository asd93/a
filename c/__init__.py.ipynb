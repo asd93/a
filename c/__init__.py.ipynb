{
 "cells": [
  {
   "cell_type": "markdown",
   "metadata": {},
   "source": [
    "# \\_\\_init__.py 의 용도"
   ]
  },
  {
   "cell_type": "markdown",
   "metadata": {},
   "source": [
    "패키지는 파이썬 모듈을 디렉터리 구조로 관리할 수 있게 해준다. 모듈이름이 A.B인 경우 A는 패키지 이름, B는 A 패키지의 B 모듈이다.\n",
    "\n",
    "가상의 game 패키지"
   ]
  },
  {
   "cell_type": "code",
   "execution_count": null,
   "metadata": {},
   "outputs": [],
   "source": [
    "game/\n",
    "    __init__.py\n",
    "    sound/\n",
    "        __init__.py\n",
    "        echo.py\n",
    "        wav.py\n",
    "    graphic/\n",
    "        __init__.py\n",
    "        screen.py\n",
    "        render.py\n",
    "    play/\n",
    "        __init__.py\n",
    "        run.py\n",
    "        test.py"
   ]
  },
  {
   "cell_type": "markdown",
   "metadata": {},
   "source": [
    "game,sound,graphic,play : 디렉터리 이름<br>.py 파일 : 모듈<br>game : 루트 디렉터리<br>sound,graphic,play : 서브 디렉터리"
   ]
  },
  {
   "cell_type": "markdown",
   "metadata": {},
   "source": [
    "#### ① \\_\\_init__.py 파일은 해당 디렉터리가 패키지의 일부임을 알려주는 역할을 한다.<br>\n",
    "디렉터리에 이 파일이 없으면 패키지로 인식되지 않았지만 python3.3 버전부터는 \\_\\_init__.py 파일이 없어도 패키지로 인식한다."
   ]
  },
  {
   "cell_type": "markdown",
   "metadata": {},
   "source": [
    "### ② 특정 디렉터리의 모듈을 \\*으로 import 하려면 해당 디렉터리의 \\_\\_init__.py 파일에 \\_\\_all__ 변수를 설정하고 import 할 수 있는 모듈을 정의해야 한다."
   ]
  },
  {
   "cell_type": "code",
   "execution_count": 3,
   "metadata": {},
   "outputs": [],
   "source": [
    "# echo.py\n",
    "def echo_test():\n",
    "    print (\"echo\")"
   ]
  },
  {
   "cell_type": "markdown",
   "metadata": {},
   "source": [
    "game 패키지의 echo.py에 위와 같이 입력되어 있다고 할 때,"
   ]
  },
  {
   "cell_type": "code",
   "execution_count": null,
   "metadata": {},
   "outputs": [],
   "source": [
    "from game.sound import *\n",
    "echo.echo_test()"
   ]
  },
  {
   "cell_type": "markdown",
   "metadata": {},
   "source": [
    "를 실행하면 \"echo\"가 출력되지 않고 오류가 발생한다.<br><br>\n",
    "위의 예에서는 \\_\\_init__.py 파일에 다음과 같은 내용을 추가해야 한다. <br>"
   ]
  },
  {
   "cell_type": "code",
   "execution_count": null,
   "metadata": {},
   "outputs": [],
   "source": [
    "# C:/doit/game/sound/__init__.py\n",
    "__all__ = ['echo']"
   ]
  },
  {
   "cell_type": "markdown",
   "metadata": {},
   "source": [
    "\\_\\_all__이 의미하는 것은 sound 디렉터리에서 * 기호를 사용하여 import할 경우 이곳에 정의된 echo 모듈만 import된다는 의미이다.<br><br><br>\n",
    "***\n",
    "##### from game.sound.echo import * <br>\n",
    "는 \\_\\_all__과 상관없이 무조건 import된다.<br>from a.b.c import * 에서 from의 마지막 항목인 c가 모듈인 경우는 \\_\\_all__과 상관없이 무조건 import 된다.\n",
    "***"
   ]
  },
  {
   "cell_type": "markdown",
   "metadata": {},
   "source": [
    "## test"
   ]
  },
  {
   "cell_type": "code",
   "execution_count": 3,
   "metadata": {},
   "outputs": [
    {
     "data": {
      "text/plain": [
       "[\"C:\\\\Users\\\\이유선\\\\Desktop\\\\'▽'\\\\py\\\\공학전산응용\",\n",
       " 'C:\\\\anaconda\\\\python37.zip',\n",
       " 'C:\\\\anaconda\\\\DLLs',\n",
       " 'C:\\\\anaconda\\\\lib',\n",
       " 'C:\\\\anaconda',\n",
       " '',\n",
       " 'C:\\\\anaconda\\\\lib\\\\site-packages',\n",
       " 'C:\\\\anaconda\\\\lib\\\\site-packages\\\\win32',\n",
       " 'C:\\\\anaconda\\\\lib\\\\site-packages\\\\win32\\\\lib',\n",
       " 'C:\\\\anaconda\\\\lib\\\\site-packages\\\\Pythonwin',\n",
       " 'C:\\\\anaconda\\\\lib\\\\site-packages\\\\IPython\\\\extensions',\n",
       " 'C:\\\\Users\\\\이유선\\\\.ipython',\n",
       " 'C:\\\\doit_init_test']"
      ]
     },
     "execution_count": 3,
     "metadata": {},
     "output_type": "execute_result"
    }
   ],
   "source": [
    "import sys\n",
    "sys.path.append(\"C:\\doit_init_test\")\n",
    "sys.path"
   ]
  },
  {
   "cell_type": "code",
   "execution_count": 4,
   "metadata": {},
   "outputs": [
    {
     "ename": "NameError",
     "evalue": "name 'echo' is not defined",
     "output_type": "error",
     "traceback": [
      "\u001b[1;31m---------------------------------------------------------------------------\u001b[0m",
      "\u001b[1;31mNameError\u001b[0m                                 Traceback (most recent call last)",
      "\u001b[1;32m<ipython-input-4-b76d5b24d74b>\u001b[0m in \u001b[0;36m<module>\u001b[1;34m\u001b[0m\n\u001b[0;32m      1\u001b[0m \u001b[1;32mfrom\u001b[0m \u001b[0mgame\u001b[0m\u001b[1;33m.\u001b[0m\u001b[0msound\u001b[0m \u001b[1;32mimport\u001b[0m \u001b[1;33m*\u001b[0m\u001b[1;33m\u001b[0m\u001b[1;33m\u001b[0m\u001b[0m\n\u001b[1;32m----> 2\u001b[1;33m \u001b[0mecho\u001b[0m\u001b[1;33m.\u001b[0m\u001b[0mecho_test\u001b[0m\u001b[1;33m(\u001b[0m\u001b[1;33m)\u001b[0m\u001b[1;33m\u001b[0m\u001b[1;33m\u001b[0m\u001b[0m\n\u001b[0m",
      "\u001b[1;31mNameError\u001b[0m: name 'echo' is not defined"
     ]
    }
   ],
   "source": [
    "# __init__.py 에 import 할 수 있는 모듈 정의하지 않은 경우\n",
    "\n",
    "from game.sound import *\n",
    "echo.echo_test()\n",
    "\n",
    "# error 발생"
   ]
  },
  {
   "cell_type": "code",
   "execution_count": 6,
   "metadata": {},
   "outputs": [
    {
     "name": "stdout",
     "output_type": "stream",
     "text": [
      "echo\n"
     ]
    }
   ],
   "source": [
    "# __init__.py 에 __all__ = ['echo'] 넣은 경우\n",
    "\n",
    "from game.sound import *\n",
    "echo.echo_test()\n",
    "\n",
    "# error 발생하지 않고 원하던 결과가 출력된다."
   ]
  }
 ],
 "metadata": {
  "kernelspec": {
   "display_name": "Python 3",
   "language": "python",
   "name": "python3"
  }
 },
 "nbformat": 4,
 "nbformat_minor": 2
}
