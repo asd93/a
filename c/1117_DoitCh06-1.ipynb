{
 "cells": [
  {
   "cell_type": "markdown",
   "metadata": {},
   "source": [
    "# Ch06. 2개의 층을 연결합니다  -다층신경망\n",
    "* 선형 회귀\n",
    "* 로지스틱 회귀\n",
    "* 단일층 신경망\n",
    "> 경사 하강법\n",
    "* 과대적합과 과소적합\n",
    "> L1, L2규제\n",
    "\n",
    "<br>\n",
    "\n",
    "* 앞에서 배운 내용을 응용하고 확장하여 여러 층이 있는 모델을 만들어보겠습니다.<br><br>\n",
    "\n",
    "**06-1** 신경망 알고리즘을 벡터화하여 한 번에 전체 샘플을 사용합니다<br>\n",
    "**06-2** 2개의 층을 가진 신경망을 구현합니다<br>\n",
    "**06-3** 미니 배치를 사용하여 모델을 훈련합니다"
   ]
  },
  {
   "cell_type": "markdown",
   "metadata": {},
   "source": [
    "# 06-1 신경망 알고리즘을 벡터화하여 한 번에 전체 샘플을 사용합니다\n",
    "사이킷런의 예제 데이터 세트는 2차원 배열로 저장되어 있습니다. 2차원 배열은 행을 샘플, 열을 특성으로 생각하면 행렬로 이해할 수 있습니다.<br>행렬 개념을 신경망 알고리즘에 도입할 것입니다."
   ]
  },
  {
   "cell_type": "markdown",
   "metadata": {},
   "source": [
    "## 벡터화된 연산은 알고리즘의 성능을 올립니다\n",
    "<br>\n",
    "\n",
    "넘파이, 머신러닝, 딥러닝 패키지들은 다차원 배열의 계산, 즉 행렬 연산을 빠르게 수행할 수 있습니다.<br>\n",
    "**배치 경사 하강법**을 SingleLayer 클래스에 적용하면 벡터화된 연산을 사용할 수 있습니다.\n",
    "<br><br>\n",
    "지금까지 선형 회귀, 로지스틱 회귀, SingleLayer 클래스에서는 **확률적 경사 하강법**을 사용했습니다. 확률적 경사 하강법은 가중치를 1번 업데이트 할 때 1개의 샘플을 사용하므로 손실함수의 전역 최솟값을 불안정하게 찾습니다. **배치 경사 하강법**은 전역 최솟값을 안정적으로 찾지만, 알고리즘 1번 수행당 계산 비용이 많이 듭니다."
   ]
  },
  {
   "cell_type": "markdown",
   "metadata": {},
   "source": [
    "## 벡터 연산과 행렬 연산을 알아봅니다\n",
    "* 점 곱 (스칼라 곱)\n",
    "\n",
    "단일층 신경망<br>\n",
    "![그림1]()\n",
    "\n",
    "단일층 신경망 SingleLayer 클래스의 forpass() 메서드에 z 구현"
   ]
  },
  {
   "cell_type": "code",
   "execution_count": null,
   "metadata": {},
   "outputs": [],
   "source": [
    "z=np.sum(x*self.w)+self.b # 넘파이의 원소별 곱셈"
   ]
  },
  {
   "cell_type": "code",
   "execution_count": 1,
   "metadata": {},
   "outputs": [
    {
     "data": {
      "text/plain": [
       "array([ 4, 10, 18])"
      ]
     },
     "execution_count": 1,
     "metadata": {},
     "output_type": "execute_result"
    }
   ],
   "source": [
    "import numpy as np\n",
    "\n",
    "x=np.array([1,2,3])\n",
    "w=np.array([4,5,6])\n",
    "x*w"
   ]
  },
  {
   "cell_type": "code",
   "execution_count": 2,
   "metadata": {},
   "outputs": [
    {
     "data": {
      "text/plain": [
       "32"
      ]
     },
     "execution_count": 2,
     "metadata": {},
     "output_type": "execute_result"
    }
   ],
   "source": [
    "np.sum(x*w)"
   ]
  },
  {
   "cell_type": "markdown",
   "metadata": {},
   "source": [
    "여기서 $\\mathbf{x}(x_1,x_2,\\cdots )$와 $\\mathbf{w}(w_1,w_2,\\cdots )$는 벡터라고 부르고 벡터는 볼드로 표기합니다.<br>그리고 위의 두 벡터를 곱하여 합을 구하는 계산(np.sum(x\\*self.w)) 을 **점 곱(dot product)** 또는 **스칼라 곱(scalar product)**이라고 합니다."
   ]
  },
  {
   "cell_type": "markdown",
   "metadata": {},
   "source": [
    "![그림2]()"
   ]
  },
  {
   "cell_type": "markdown",
   "metadata": {},
   "source": [
    "<br><br><br>\n",
    "* 점 곱을 행렬 곱셈으로 표현\n",
    "\n",
    "![그림3]()\n",
    "\n",
    "점 곱을 행렬 곱셈으로 표현하면 행 방향으로 놓인 첫 번째 벡터와 열 방향으로 놓인 두 번째 벡터의 원소를 각각 곱한 후 모두 더하는 것과 같습니다.<br>앞의 np.sum(x\\*self.w)의 계산과 정확히 일치합니다. 넘파이에서 행렬 곱셈을 계산하는 함수를 사용하면 np.sum(x\\*w)를 다음과 같이 수정할 수 있습니다."
   ]
  },
  {
   "cell_type": "code",
   "execution_count": 4,
   "metadata": {},
   "outputs": [
    {
     "data": {
      "text/plain": [
       "32"
      ]
     },
     "execution_count": 4,
     "metadata": {},
     "output_type": "execute_result"
    }
   ],
   "source": [
    "np.dot(x,w)"
   ]
  },
  {
   "cell_type": "markdown",
   "metadata": {},
   "source": [
    "위 행렬의 곱셈 원리를 훈련 데이터의 전체 샘플에 대해 적용하면 배치 경사 하강법을 구현할 수 있습니다."
   ]
  },
  {
   "cell_type": "markdown",
   "metadata": {},
   "source": [
    "<br><br><br>\n",
    "* 전체 샘플에 대한 가중치 곱의 합을 행렬 곱셈으로 구하기\n",
    "\n",
    "훈련데이터의 샘플은 각 샘플이 하나의 행으로 이루어져 있으므로 행렬 곱셈을 적용하면 샘플의 특성과 가중치를 곱하여 더한 행렬을 얻을 수 있습니다. <br><br>\n",
    "$$\\mathbf{XW}=\\begin{bmatrix}\n",
    "x_1^{(1)} & x_2^{(1)} & x_3^{(1)}\\\\ \n",
    "x_1^{(2)} & x_2^{(2)} & x_3^{(2)}\\\\ \n",
    " & \\vdots  & \\\\ \n",
    "x_1^{(m)} & x_2^{(m)} & x_3^{(m)}\n",
    "\\end{bmatrix}\\begin{bmatrix}\n",
    "w_1\\\\ \n",
    "w_2\\\\ \n",
    "w_3\n",
    "\\end{bmatrix}=\\begin{bmatrix}\n",
    "x_1^{(1)}w_1+x_2^{(1)}w_2+x_3^{(1)}w_3\\\\ \n",
    "x_1^{(2)}w_1+x_2^{(2)}w_2+x_3^{(2)}w_3\\\\ \n",
    "\\vdots \\\\ \n",
    "x_1^{(m)}w_1+x_2^{(m)}w_2+x_3^{(m)}w_3\n",
    "\\end{bmatrix}$$\n",
    "<br>\n",
    "$$샘플 m개$$\n",
    "<br>\n",
    "행렬 곱셈을 통해 만들어지는 행렬의 크기는 첫 번째 행렬의 행과 두 번째 행렬의 열이 됩니다. 크기는 다음과 같이 표기합니다.\n",
    "<br>\n",
    "$$(m,n)\\cdot (n,k)=(m,k)$$\n",
    "<br>\n",
    "위의 $\\mathbf{XW}$의 경우에는 $(m,3)\\cdot (3,1)=(m,1)$가 됩니다."
   ]
  },
  {
   "cell_type": "markdown",
   "metadata": {},
   "source": [
    "## SingleLayer 클래스에 배치 경사 하강법 적용하기\n",
    "#### ① 넘파이와 맷플롯립 임포트"
   ]
  },
  {
   "cell_type": "code",
   "execution_count": 5,
   "metadata": {},
   "outputs": [],
   "source": [
    "import numpy as np\n",
    "import matplotlib.pyplot as plt"
   ]
  },
  {
   "cell_type": "markdown",
   "metadata": {},
   "source": [
    "#### ② 위스콘신 유방암 데이터 세트를 나눕니다"
   ]
  },
  {
   "cell_type": "code",
   "execution_count": 6,
   "metadata": {},
   "outputs": [],
   "source": [
    "from sklearn.datasets import load_breast_cancer\n",
    "from sklearn.model_selection import train_test_split\n",
    "\n",
    "cancer = load_breast_cancer()\n",
    "x = cancer.data\n",
    "y = cancer.target\n",
    "x_train_all, x_test, y_train_all, y_test = train_test_split(x, y, stratify=y, \n",
    "                                                            test_size=0.2, random_state=42)\n",
    "x_train, x_val, y_train, y_val = train_test_split(x_train_all, y_train_all, stratify=y_train_all, \n",
    "                                                  test_size=0.2, random_state=42)"
   ]
  },
  {
   "cell_type": "markdown",
   "metadata": {},
   "source": [
    "#### ③ 훈련세트와 검증세트 크기 확인\n",
    "샘플 569개, 특성 30개"
   ]
  },
  {
   "cell_type": "code",
   "execution_count": 9,
   "metadata": {
    "scrolled": true
   },
   "outputs": [
    {
     "name": "stdout",
     "output_type": "stream",
     "text": [
      "(455, 30) (114, 30)\n"
     ]
    }
   ],
   "source": [
    "print(x_train_all.shape, x_test.shape)"
   ]
  },
  {
   "cell_type": "code",
   "execution_count": 10,
   "metadata": {},
   "outputs": [
    {
     "name": "stdout",
     "output_type": "stream",
     "text": [
      "(364, 30) (91, 30)\n"
     ]
    }
   ],
   "source": [
    "print(x_train.shape, x_val.shape)"
   ]
  },
  {
   "cell_type": "markdown",
   "metadata": {},
   "source": [
    "#### ④ 정방향 계산을 행렬 곱셈으로 표현\n",
    "정방향 계산을 행렬 곱셈으로 표현한 것입니다.\n",
    "$$\\mathbf{XW+b}=\\begin{bmatrix}\n",
    "x_1^{(1)} &\\cdots   &x_{30}^{(1)} \\\\ \n",
    " \\vdots &  & \\vdots \\\\ \n",
    "x_1^{(364)} & \\cdots & x_{30}^{(364)}\n",
    "\\end{bmatrix}\\begin{bmatrix}\n",
    "w_1\\\\ \n",
    "w_2\\\\ \n",
    "\\vdots\\\\ \n",
    "w_{30}\n",
    "\\end{bmatrix}+\\begin{bmatrix}\n",
    "b\\\\ \n",
    "\\vdots \\\\ \n",
    "b\n",
    "\\end{bmatrix}=\\begin{bmatrix}\n",
    "z^{(1)}\\\\ \n",
    "z^{(2)}\\\\ \n",
    "\\vdots \\\\ \n",
    "z^{(364)}\n",
    "\\end{bmatrix}$$"
   ]
  },
  {
   "cell_type": "markdown",
   "metadata": {},
   "source": [
    "넘파이를 사용하면 절편을 더하기 위해 (364,1) 크기의 행렬을 따로 만들 필요가 없습니다.<br>\n",
    "행렬에 스칼라 값을 더하면 자동으로 행렬의 각 요소에 스칼라 값을 더해 줍니다.\n",
    "![그림4]()"
   ]
  },
  {
   "cell_type": "markdown",
   "metadata": {},
   "source": [
    "####  ⑤ 그레이디언트 계산\n",
    "그레이디언트 : 오차와 입력 데이터의 곱\n",
    "$$\\mathbf{X^{T}E}=\\begin{bmatrix}\n",
    "x_1^{(1)} &\\cdots   &x_1^{(364)} \\\\ \n",
    "x_2^{(1)} &\\cdots  &x_2^{(364)} \\\\ \n",
    " \\vdots &  & \\vdots \\\\ \n",
    "x_{30}^{(1)} & \\cdots & x_{30}^{(364)}\n",
    "\\end{bmatrix}\\begin{bmatrix}\n",
    "e^{(1)}\\\\ \n",
    "e^{(2)}\\\\ \n",
    "\\vdots \\\\ \n",
    "e^{(364)}\n",
    "\\end{bmatrix}=\\begin{bmatrix}\n",
    "g_1\\\\ \n",
    "g_2\\\\ \n",
    "\\vdots \\\\ \n",
    "g_{30}\n",
    "\\end{bmatrix}$$\n",
    "<br>\n",
    "$\\mathbf{X^T}$ :$\\mathbf{X}$의 전치행렬<br>\n",
    "행렬의 크기는 $(30,364)\\cdot (364,1)=(30,1)$이 됩니다.<br>\n",
    "$g_1$은 모든 샘플의 첫 번째 특성과 오차를 곱하여 더한 값이므로 이후 그레이디언트 평균값을 계산할 때 이 값을 다시 전체 샘플 수로 나눕니다."
   ]
  },
  {
   "cell_type": "markdown",
   "metadata": {},
   "source": [
    "#### ⑥ forpass(), backprop() 메서드에 배치 경사 하강법 적용\n",
    "forpass() 메서드에는 np.sum() 대신 np.dot() 함수를 사용하고, <br>\n",
    "backprop() 메서드에서는 전체 샘플 개수로 평균 그레이디언트를 구합니다."
   ]
  },
  {
   "cell_type": "code",
   "execution_count": null,
   "metadata": {},
   "outputs": [],
   "source": [
    "def forpass(self, x):\n",
    "    z=np.dot(x,self.w)+self.b\n",
    "    return z\n",
    "\n",
    "def backprop(self, x, err):\n",
    "    m=len(x)  #넘파이 배열의 행 크기 반환\n",
    "    w_grad = np.dot(x.T, err) / m\n",
    "    b_grad = np.sum(err) / m\n",
    "    return x_grad, b_grad"
   ]
  },
  {
   "cell_type": "markdown",
   "metadata": {},
   "source": [
    "#### ⑦ fit() 메서드 수정\n",
    "배치 경사 하강법에서는 forpass()와 backprop() 메서드에서 전체 샘플을 한꺼번에 계산하므로 for 문이 하나 삭제됩니다."
   ]
  },
  {
   "cell_type": "code",
   "execution_count": null,
   "metadata": {},
   "outputs": [],
   "source": [
    "def fit(self, x, y, epochs=100, x_val=None, y_val=None):\n",
    "        y = y.reshape(-1, 1)                  # 타깃을 열 벡터로 바꿉니다.\n",
    "        y_val = y_val.reshape(-1, 1)          # 검증용 타깃을 열 벡터로 바꿉니다.\n",
    "        m = len(x)                            # 샘플 개수를 저장합니다.\n",
    "        self.w = np.ones((x.shape[1], 1))     # 가중치를 초기화합니다.\n",
    "        self.b = 0                            # 절편을 초기화합니다.\n",
    "        self.w_history.append(self.w.copy())  # 가중치를 기록합니다.\n",
    "        # epochs만큼 반복합니다.\n",
    "        for i in range(epochs):\n",
    "            z = self.forpass(x)               # 정방향 계산을 수행합니다.\n",
    "            a = self.activation(z)            # 활성화 함수를 적용합니다.\n",
    "            err = -(y - a)                    # 오차를 계산합니다.\n",
    "            # 오차를 역전파하여 그래디언트를 계산합니다.\n",
    "            w_grad, b_grad = self.backprop(x, err)\n",
    "            # 그래디언트에서 페널티 항의 미분 값을 더합니다. \n",
    "            w_grad += (self.l1 * np.sign(self.w) + self.l2 * self.w) / m\n",
    "            # 가중치와 절편을 업데이트합니다.\n",
    "            self.w -= self.lr * w_grad\n",
    "            self.b -= self.lr * b_grad\n",
    "            # 가중치를 기록합니다.\n",
    "            self.w_history.append(self.w.copy())\n",
    "            # 안전한 로그 계산을 위해 클리핑합니다.\n",
    "            a = np.clip(a, 1e-10, 1-1e-10)\n",
    "            # 로그 손실과 규제 손실을 더하여 리스트에 추가합니다.\n",
    "            loss = np.sum(-(y*np.log(a) + (1-y)*np.log(1-a)))\n",
    "            self.losses.append((loss + self.reg_loss()) / m)\n",
    "            # 검증 세트에 대한 손실을 계산합니다.\n",
    "            self.update_val_loss(x_val, y_val)"
   ]
  },
  {
   "cell_type": "markdown",
   "metadata": {},
   "source": [
    "활성화함수 출력값인 a가 열 벡터이므로 타깃값을 (m,1)인 열 벡터로 변환하였고 평균 손실을 구하기 위해 np.sum() 함수로 각 함수의 손실을 더한 후 전체 샘플의 개수로 나눴습니다."
   ]
  },
  {
   "cell_type": "markdown",
   "metadata": {},
   "source": [
    "#### ⑧ 나머지 메서드 수정\n",
    "predict() 메서드와 update_val_loss() 메서드"
   ]
  },
  {
   "cell_type": "code",
   "execution_count": null,
   "metadata": {},
   "outputs": [],
   "source": [
    "def predict(self, x):\n",
    "    z = self.forpass(x)      # 정방향 계산을 수행합니다.\n",
    "    return z > 0             # 스텝 함수를 적용합니다.\n",
    "\n",
    "def update_val_loss(self, x_val, y_val):\n",
    "    z = self.forpass(x_val)            # 정방향 계산을 수행합니다.\n",
    "    a = self.activation(z)             # 활성화 함수를 적용합니다.\n",
    "    a = np.clip(a, 1e-10, 1-1e-10)     # 출력 값을 클리핑합니다.\n",
    "    # 로그 손실과 규제 손실을 더하여 리스트에 추가합니다.\n",
    "    val_loss = np.sum(-(y_val*np.log(a) + (1-y_val)*np.log(1-a)))\n",
    "    self.val_losses.append((val_loss + self.reg_loss()) / len(y_val))"
   ]
  },
  {
   "cell_type": "markdown",
   "metadata": {},
   "source": [
    "전체 코드는 다음과 같습니다."
   ]
  },
  {
   "cell_type": "code",
   "execution_count": 11,
   "metadata": {},
   "outputs": [],
   "source": [
    "class SingleLayer:\n",
    "    \n",
    "    def __init__(self, learning_rate=0.1, l1=0, l2=0):\n",
    "        self.w = None              # 가중치\n",
    "        self.b = None              # 절편\n",
    "        self.losses = []           # 훈련 손실\n",
    "        self.val_losses = []       # 검증 손실\n",
    "        self.w_history = []        # 가중치 기록\n",
    "        self.lr = learning_rate    # 학습률\n",
    "        self.l1 = l1               # L1 손실 하이퍼파라미터\n",
    "        self.l2 = l2               # L2 손실 하이퍼파라미터\n",
    "\n",
    "    def forpass(self, x):\n",
    "        z = np.dot(x, self.w) + self.b        # 선형 출력을 계산합니다.\n",
    "        return z\n",
    "\n",
    "    def backprop(self, x, err):\n",
    "        m = len(x)\n",
    "        w_grad = np.dot(x.T, err) / m         # 가중치에 대한 그래디언트를 계산합니다.\n",
    "        b_grad = np.sum(err) / m              # 절편에 대한 그래디언트를 계산합니다.\n",
    "        return w_grad, b_grad\n",
    "\n",
    "    def activation(self, z):\n",
    "        a = 1 / (1 + np.exp(-z))              # 시그모이드 계산\n",
    "        return a\n",
    "        \n",
    "    def fit(self, x, y, epochs=100, x_val=None, y_val=None):\n",
    "        y = y.reshape(-1, 1)                  # 타깃을 열 벡터로 바꿉니다.\n",
    "        y_val = y_val.reshape(-1, 1)\n",
    "        m = len(x)                            # 샘플 개수를 저장합니다.\n",
    "        self.w = np.ones((x.shape[1], 1))     # 가중치를 초기화합니다.\n",
    "        self.b = 0                            # 절편을 초기화합니다.\n",
    "        self.w_history.append(self.w.copy())  # 가중치를 기록합니다.\n",
    "        # epochs만큼 반복합니다.\n",
    "        for i in range(epochs):\n",
    "            z = self.forpass(x)               # 정방향 계산을 수행합니다.\n",
    "            a = self.activation(z)            # 활성화 함수를 적용합니다.\n",
    "            err = -(y - a)                    # 오차를 계산합니다.\n",
    "            # 오차를 역전파하여 그래디언트를 계산합니다.\n",
    "            w_grad, b_grad = self.backprop(x, err)\n",
    "            # 그래디언트에서 페널티 항의 미분 값을 더합니다.\n",
    "            w_grad += (self.l1 * np.sign(self.w) + self.l2 * self.w) / m\n",
    "            # 가중치와 절편을 업데이트합니다.\n",
    "            self.w -= self.lr * w_grad\n",
    "            self.b -= self.lr * b_grad\n",
    "            # 가중치를 기록합니다.\n",
    "            self.w_history.append(self.w.copy())\n",
    "            # 안전한 로그 계산을 위해 클리핑합니다.\n",
    "            a = np.clip(a, 1e-10, 1-1e-10)\n",
    "            # 로그 손실과 규제 손실을 더하여 리스트에 추가합니다.\n",
    "            loss = np.sum(-(y*np.log(a) + (1-y)*np.log(1-a)))\n",
    "            self.losses.append((loss + self.reg_loss()) / m)\n",
    "            # 검증 세트에 대한 손실을 계산합니다.\n",
    "            self.update_val_loss(x_val, y_val)\n",
    "    \n",
    "    def predict(self, x):\n",
    "        z = self.forpass(x)      # 정방향 계산을 수행합니다.\n",
    "        return z > 0             # 스텝 함수를 적용합니다.\n",
    "    \n",
    "    def score(self, x, y):\n",
    "        # 예측과 타깃 열 벡터를 비교하여 True의 비율을 반환합니다.\n",
    "        return np.mean(self.predict(x) == y.reshape(-1, 1))\n",
    "    \n",
    "    def reg_loss(self):\n",
    "        # 가중치에 규제를 적용합니다.\n",
    "        return self.l1 * np.sum(np.abs(self.w)) + self.l2 / 2 * np.sum(self.w**2)\n",
    "    \n",
    "    def update_val_loss(self, x_val, y_val):\n",
    "        z = self.forpass(x_val)            # 정방향 계산을 수행합니다.\n",
    "        a = self.activation(z)             # 활성화 함수를 적용합니다.\n",
    "        a = np.clip(a, 1e-10, 1-1e-10)     # 출력 값을 클리핑합니다.\n",
    "        # 로그 손실과 규제 손실을 더하여 리스트에 추가합니다.\n",
    "        val_loss = np.sum(-(y_val*np.log(a) + (1-y_val)*np.log(1-a)))\n",
    "        self.val_losses.append((val_loss + self.reg_loss()) / len(y_val))"
   ]
  },
  {
   "cell_type": "markdown",
   "metadata": {},
   "source": [
    "#### ⑨ 훈련 데이터 표준화 전처리\n",
    "안정적인 학습을 위해서 데이터 세트의 특성을 평균이 0, 표준편차가 1이 되도록 변환합니다.<br>\n",
    "5장에서 사용했던 사이킷런의 StandardScaler 클래스를 사용합니다.\n",
    "StandardScaler 클래스 이외에도 데이터 전처리에 관련된 클래스들은 sklearn.preprocessing 모듈 아래에 있으며 이런 클래스들을 변환기라고 부릅니다."
   ]
  },
  {
   "cell_type": "code",
   "execution_count": 12,
   "metadata": {},
   "outputs": [],
   "source": [
    "import numpy as np\n",
    "import matplotlib.pyplot as plt\n",
    "from sklearn.preprocessing import StandardScaler\n",
    "\n",
    "scaler = StandardScaler()\n",
    "scaler.fit(x_train)\n",
    "x_train_scaled = scaler.transform(x_train)\n",
    "x_val_scaled = scaler.transform(x_val)"
   ]
  },
  {
   "cell_type": "markdown",
   "metadata": {},
   "source": [
    "#### ⑩ 표준화 데이터를 SingleLayer 클래스 객체에 전달하여 배치 경사 하강법 적용"
   ]
  },
  {
   "cell_type": "code",
   "execution_count": 13,
   "metadata": {},
   "outputs": [
    {
     "data": {
      "text/plain": [
       "0.978021978021978"
      ]
     },
     "execution_count": 13,
     "metadata": {},
     "output_type": "execute_result"
    }
   ],
   "source": [
    "single_layer = SingleLayer(l2=0.01)\n",
    "single_layer.fit(x_train_scaled, y_train, \n",
    "                 x_val=x_val_scaled, y_val=y_val, epochs=10000)\n",
    "single_layer.score(x_val_scaled, y_val)"
   ]
  },
  {
   "cell_type": "markdown",
   "metadata": {},
   "source": [
    "L2규제 매개변수의 값을 0.01로 지정, <br>\n",
    "확률적 경사 하강법과 배치 경사 하강법은 가중치 업데이트 횟수에 차이가 있기 때문에 에포크 값을 10000으로 증가시킵니다."
   ]
  },
  {
   "cell_type": "markdown",
   "metadata": {},
   "source": [
    "#### ⑪ 검증 세트로 성능 측정하고 그래프로 비교\n",
    "score() 메서드에서 출력된 검증 세트의 점수는 5장과 동일하지만 손실 함수 값의 변화는 다릅니다."
   ]
  },
  {
   "cell_type": "code",
   "execution_count": 14,
   "metadata": {},
   "outputs": [
    {
     "data": {
      "image/png": "[encoded data removed]",
      "text/plain": [
       "<Figure size 432x288 with 1 Axes>"
      ]
     },
     "metadata": {
      "needs_background": "light"
     },
     "output_type": "display_data"
    }
   ],
   "source": [
    "plt.ylim(0, 0.3)\n",
    "plt.plot(single_layer.losses)\n",
    "plt.plot(single_layer.val_losses)\n",
    "plt.ylabel('loss')\n",
    "plt.xlabel('epoch')\n",
    "plt.legend(['train_loss', 'val_loss'])\n",
    "plt.show()"
   ]
  },
  {
   "cell_type": "markdown",
   "metadata": {},
   "source": [
    "배치 경사 하강법은 전체 샘플을 사용하여 가중치를 업데이트하기 때문에 손실값이 안정적으로 감소합니다."
   ]
  },
  {
   "cell_type": "markdown",
   "metadata": {},
   "source": [
    "#### ⑫ 가중치의 변화 그래프"
   ]
  },
  {
   "cell_type": "code",
   "execution_count": 15,
   "metadata": {},
   "outputs": [
    {
     "data": {
      "image/png": "[encoded data removed]",
      "text/plain": [
       "<Figure size 432x288 with 1 Axes>"
      ]
     },
     "metadata": {
      "needs_background": "light"
     },
     "output_type": "display_data"
    }
   ],
   "source": [
    "w2 = []\n",
    "w3 = []\n",
    "for w in single_layer.w_history:\n",
    "    w2.append(w[2])\n",
    "    w3.append(w[3])\n",
    "plt.plot(w2, w3)\n",
    "plt.plot(w2[-1], w3[-1], 'ro')\n",
    "plt.xlabel('w[2]')\n",
    "plt.ylabel('w[3]')\n",
    "plt.show()"
   ]
  },
  {
   "cell_type": "markdown",
   "metadata": {},
   "source": [
    "가중치의 변화가 연속적이므로 손실값도 안정적으로 수렴됩니다. 하지만 배치 경사 하강법은 매번 전체 훈련 세트를 사용하므로 연산 비용이 많이 들고 최솟값에 수렴하는 시간도 많이 걸립니다. "
   ]
  }
 ],
 "metadata": {
  "kernelspec": {
   "display_name": "Python 3",
   "language": "python",
   "name": "python3"
  },
  "language_info": {
   "codemirror_mode": {
    "name": "ipython",
    "version": 3
   },
   "file_extension": ".py",
   "mimetype": "text/x-python",
   "name": "python",
   "nbconvert_exporter": "python",
   "pygments_lexer": "ipython3",
   "version": "3.7.3"
  }
 },
 "nbformat": 4,
 "nbformat_minor": 2
}
