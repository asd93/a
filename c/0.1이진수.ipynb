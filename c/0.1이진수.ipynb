{
 "cells": [
  {
   "cell_type": "markdown",
   "metadata": {},
   "source": [
    "**십진수**<br>\n",
    "소수 n번째 자리 : $10^{-n}$<br><br>\n",
    "**이진수**<br>\n",
    "소수 n번째 자리 : $2^{-n}$<br><br>\n",
    "ex) 1.101 (2) = $2^{0}+2^{-1}+2^{-3}$ = 2.625 (10)<br><br>\n",
    "\n",
    "**소수 이진수로 변환**<br>\n",
    "* 십진수의 소수 부분에 $\\times 2$ 를 해서 1 이상이면 1, 1 미만이면 0으로 바꾼다.<br>\n",
    "* 1이 될 때까지 반복한다.<br><br>\n",
    "* ex) 0.625(10) <br><br>\n",
    "    $0.625\\times 2=1.25 > 0$<br>\n",
    "    $0.25\\times 2=0.5 < 0$<br>\n",
    "    $0.5\\times 2=1$<br><br>\n",
    "     0.625(10) = 0.101(2)"
   ]
  },
  {
   "cell_type": "markdown",
   "metadata": {},
   "source": [
    "### IEEE 표준\n",
    "컴퓨터에서 부동소수점을 표현하는 표준<BR>\n",
    "    \n",
    "* 32비트에서는 부호 1비트, 지수 8비트, 가수 23비트로 저장된다.\n",
    "* 음수는 1 양수는 0 이다.\n",
    "* 표현하려는 수를 이진수로 바꾸고 맨 앞자리를 1로 해서 1.xxxx $\\times 2^{x}$ 꼴로 바꾼다.\n",
    "* $\\times 2^{x}$의 x에 127을 더한 값을 이진수로 바꾼 값이 지수 부분이다. (8비트)\n",
    "* 1.xxxx 에서 xxxx부분을 가수 23비트에 넣고 남는 부분은 0으로 저장된다.\n",
    "\n",
    "<br><br>\n",
    "    예를 들어 **7.25(10)** 일 경우, 7.25(10) = 111.01(2) = 1.1101(2) $\\times 2^{2}$<br><BR>\n",
    "부호부 = 0<br>\n",
    "지수부 = 127+2 = 129(10) = 10000001(2)<br>\n",
    "가수부 = 11010000000000000000000<BR><BR>\n",
    "이므로, 01000000111010000000000000000000 으로 저장된다.<BR><BR>\n",
    "\n",
    "\n",
    "### 같은 방법으로 0.1을 표현하려고 하면,\n",
    "0.1(10) = 0.0001100110011001100$\\cdots $(2) = 1.100110011001100$\\cdots \\times 2^{-4}$<br><br>\n",
    "부호부 = 0<br>\n",
    "지수부 = 127+(-4) = 123(10) = 01111011(2)<br>\n",
    "가수부 = 100110011001100110011$\\cdots $<br><br>\n",
    "\n",
    "0.1의 이진수는 무한소수로 계속 반복되므로 한정된 비트수에 정확한 값을 저장할 수 없다."
   ]
  },
  {
   "cell_type": "code",
   "execution_count": 1,
   "metadata": {},
   "outputs": [
    {
     "data": {
      "text/plain": [
       "0.15000000000000002"
      ]
     },
     "execution_count": 1,
     "metadata": {},
     "output_type": "execute_result"
    }
   ],
   "source": [
    "0.1 + 0.05"
   ]
  },
  {
   "cell_type": "markdown",
   "metadata": {},
   "source": [
    "실제로 파이썬으로 계산해보면 이 오차 때문에 0.15보다 약간 큰 값이 나온다."
   ]
  }
 ],
 "metadata": {
  "kernelspec": {
   "display_name": "Python 3",
   "language": "python",
   "name": "python3"
  },
  "language_info": {
   "codemirror_mode": {
    "name": "ipython",
    "version": 3
   },
   "file_extension": ".py",
   "mimetype": "text/x-python",
   "name": "python",
   "nbconvert_exporter": "python",
   "pygments_lexer": "ipython3",
   "version": "3.7.3"
  }
 },
 "nbformat": 4,
 "nbformat_minor": 2
}
