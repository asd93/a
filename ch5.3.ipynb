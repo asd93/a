{
  "nbformat": 4,
  "nbformat_minor": 0,
  "metadata": {
    "kernelspec": {
      "display_name": "Python 3",
      "language": "python",
      "name": "python3"
    },
    "language_info": {
      "codemirror_mode": {
        "name": "ipython",
        "version": 3
      },
      "file_extension": ".py",
      "mimetype": "text/x-python",
      "name": "python",
      "nbconvert_exporter": "python",
      "pygments_lexer": "ipython3",
      "version": "3.7.3"
    },
    "colab": {
      "name": "ch5.3_17101605.ipynb",
      "provenance": [],
      "include_colab_link": true
    }
  },
  "cells": [
    {
      "cell_type": "markdown",
      "metadata": {
        "id": "view-in-github",
        "colab_type": "text"
      },
      "source": [
        "<a href=\"https://colab.research.google.com/github/asd93/a/blob/master/ch5.3_17101605.ipynb\" target=\"_parent\"><img src=\"https://colab.research.google.com/assets/colab-badge.svg\" alt=\"Open In Colab\"/></a>"
      ]
    },
    {
      "cell_type": "markdown",
      "metadata": {
        "id": "n1sUsOOw05VM",
        "colab_type": "text"
      },
      "source": [
        "수치미분 : 단순하고 구현이 쉽지만 계산 시간이 오래 걸림.<br><br>\n",
        "오차역전파법 : 가중치 매개변수의 기울기를 효율적으로 계산하는 방법"
      ]
    },
    {
      "cell_type": "markdown",
      "metadata": {
        "id": "uEJ32b_Z05VU",
        "colab_type": "text"
      },
      "source": [
        "# 5.1 계산 그래프"
      ]
    },
    {
      "cell_type": "markdown",
      "metadata": {
        "id": "HXd-_xvX05VZ",
        "colab_type": "text"
      },
      "source": [
        "## 5.1.1 계산 그래프로 풀다"
      ]
    },
    {
      "cell_type": "markdown",
      "metadata": {
        "id": "9eZ5cKic05Ve",
        "colab_type": "text"
      },
      "source": [
        "* 계산 그래프는 계산 과정을 노드와 화살표로 표현한 것이다<br>\n",
        "* 노드는 원으로 표기하고 원 안에 연산 내용을 적는다<br>\n",
        "* 각 노드의 계산 결과는 왼쪽에서 오른쪽으로 전해진다 - **순전파**<br>"
      ]
    },
    {
      "cell_type": "markdown",
      "metadata": {
        "id": "0sButG7i05Vh",
        "colab_type": "text"
      },
      "source": [
        "#### 문제 : 현빈 군은 슈퍼에서 사과를 2개, 귤을 3개 샀습니다. 사과는 1개에 100원, 귤은 1개 150원입니다. 소비세가 10%일 때 지불 금액을 구하세요."
      ]
    },
    {
      "cell_type": "markdown",
      "metadata": {
        "id": "Ky4Zpmy505Vk",
        "colab_type": "text"
      },
      "source": [
        "<br>\n",
        "<img width=\"500px\" height=\"100px\"/img src=\"https://github.com/asd93/a/blob/master/fig%205-3.PNG?raw=1\">"
      ]
    },
    {
      "cell_type": "markdown",
      "metadata": {
        "id": "h-EOPvAw05Vp",
        "colab_type": "text"
      },
      "source": [
        "## 5.1.2 국소적 계산"
      ]
    },
    {
      "cell_type": "markdown",
      "metadata": {
        "id": "005kZ9gn05Vt",
        "colab_type": "text"
      },
      "source": [
        "* 계산 그래프는 '국소적 계산'을 전파함으로써 최종 결과를 얻음<br>\n",
        "전체에서 어떤 일이 벌어지든 상관 없이 자신과 관계된 정보만으로 결과를 출력할 수 있음<br>"
      ]
    },
    {
      "cell_type": "markdown",
      "metadata": {
        "id": "GTczS-K205Vw",
        "colab_type": "text"
      },
      "source": [
        "* 각 노드에서의 계산은 국소적 계산<br>\n",
        "단순하지만, 그 결과를 전달함으로써 전체를 구성하는 복잡한 계산을 해낼 수 있음"
      ]
    },
    {
      "cell_type": "markdown",
      "metadata": {
        "id": "p3MloOSE05V0",
        "colab_type": "text"
      },
      "source": [
        "## 5.1.3 왜 계산 그래프로 푸는가?"
      ]
    },
    {
      "cell_type": "markdown",
      "metadata": {
        "id": "9_nK681a05V6",
        "colab_type": "text"
      },
      "source": [
        "* 전체가 복잡해도 각 노드에서는 단순한 계산으로 문제 단순화 **(국소적 계산)**\n",
        "* 중간 계산 결과를 모두 보관 가능\n",
        "* **역전파**를 통해 '미분'의 효율적 계산"
      ]
    },
    {
      "cell_type": "markdown",
      "metadata": {
        "id": "6CnTZKdV05V9",
        "colab_type": "text"
      },
      "source": [
        "<br>\n",
        "<img width=\"500px\" height=\"100px\"/img src=\"https://github.com/asd93/a/blob/master/fig%205-5.PNG?raw=1\">"
      ]
    },
    {
      "cell_type": "markdown",
      "metadata": {
        "id": "x5hgd0dg05WA",
        "colab_type": "text"
      },
      "source": [
        "**역전파**는 국소적 미분을 오른쪽에서 왼쪽으로 전달하고 미분 값을 화살표 아래에 적는다.<br>\n",
        "'사과 가격에 대한 지불 금액의 미분' 값 : 2.2"
      ]
    },
    {
      "cell_type": "markdown",
      "metadata": {
        "id": "FNfQfnrX05WC",
        "colab_type": "text"
      },
      "source": [
        "# 5.2 연쇄법칙"
      ]
    },
    {
      "cell_type": "markdown",
      "metadata": {
        "id": "CYStafPP05WF",
        "colab_type": "text"
      },
      "source": [
        "## 5.2.1 계산 그래프의 역전파"
      ]
    },
    {
      "cell_type": "markdown",
      "metadata": {
        "id": "w7pAvyDJ05WJ",
        "colab_type": "text"
      },
      "source": [
        "* $y=f(x)$ 의 역전파"
      ]
    },
    {
      "cell_type": "markdown",
      "metadata": {
        "id": "vjN4dnrM05WM",
        "colab_type": "text"
      },
      "source": [
        "<br>\n",
        "<img width=\"300px\" height=\"80px\"/img src=\"https://github.com/asd93/a/blob/master/fig%205-6.PNG?raw=1\">"
      ]
    },
    {
      "cell_type": "markdown",
      "metadata": {
        "id": "fNjouOKH05WP",
        "colab_type": "text"
      },
      "source": [
        "역전파의 계산 절차 : 신호 $\\mathbf{E}$에 노드의 국소적 미분 ($\\frac{\\partial y}{\\partial x}$)을 곱한 후 다음 노드로 전달<br>\n",
        "(국소적 미분 : 순전파 때의 $y=f(x)$ 계산의 미분($\\frac{\\partial y}{\\partial x}$) 구함)"
      ]
    },
    {
      "cell_type": "markdown",
      "metadata": {
        "id": "6-imZ7e905WR",
        "colab_type": "text"
      },
      "source": [
        "## 5.2.2 연쇄법칙이란?"
      ]
    },
    {
      "cell_type": "markdown",
      "metadata": {
        "id": "paQJlR6W05WU",
        "colab_type": "text"
      },
      "source": [
        "$z=t^{2}$<br>\n",
        "$t=x+y$"
      ]
    },
    {
      "cell_type": "markdown",
      "metadata": {
        "id": "izZcWw5R05WZ",
        "colab_type": "text"
      },
      "source": [
        "합성 함수의 미분은 합성 함수를 구성하는 각 함수의 미분의 곱으로 나타낼 수 있다."
      ]
    },
    {
      "cell_type": "markdown",
      "metadata": {
        "id": "Ns1h1Blx05Wc",
        "colab_type": "text"
      },
      "source": [
        "### $\\frac{\\partial z}{\\partial x}=\\frac{\\partial z}{\\partial t}\\frac{\\partial t}{\\partial x}$\n",
        "#### $\\frac{\\partial z}{\\partial t}=2t$\n",
        "#### $\\frac{\\partial t}{\\partial x}=1$"
      ]
    },
    {
      "cell_type": "markdown",
      "metadata": {
        "id": "RUsf3uKB05Wf",
        "colab_type": "text"
      },
      "source": [
        "### **$\\frac{\\partial z}{\\partial x}=\\frac{\\partial z}{\\partial t}\\frac{\\partial t}{\\partial x}=2t=2(x+y)$**"
      ]
    },
    {
      "cell_type": "markdown",
      "metadata": {
        "id": "VD4FtJnS05Wi",
        "colab_type": "text"
      },
      "source": [
        "## 5.2.3 연쇄법칙과 계산 그래프"
      ]
    },
    {
      "cell_type": "markdown",
      "metadata": {
        "id": "DLxhsk5B05Wk",
        "colab_type": "text"
      },
      "source": [
        "$$z=t^{2}$$<br>\n",
        "$$t=x+y$$"
      ]
    },
    {
      "cell_type": "markdown",
      "metadata": {
        "id": "ptIqGRgK05Wn",
        "colab_type": "text"
      },
      "source": [
        "<br>\n",
        "<img width=\"400px\" height=\"100px\"/img src=\"https://github.com/asd93/a/blob/master/fig%205-7.PNG?raw=1\">\n",
        "<img width=\"400px\" height=\"100px\"/img src=\"https://github.com/asd93/a/blob/master/fig%205-8.PNG?raw=1\">"
      ]
    },
    {
      "cell_type": "markdown",
      "metadata": {
        "id": "vQTrM1N_05Wr",
        "colab_type": "text"
      },
      "source": [
        "# 5.3 역전파"
      ]
    },
    {
      "cell_type": "markdown",
      "metadata": {
        "id": "KTxmuMuY05Wt",
        "colab_type": "text"
      },
      "source": [
        "## 5.3.1 덧셈 노드의 역전파"
      ]
    },
    {
      "cell_type": "markdown",
      "metadata": {
        "id": "JjHT_pDU05Ww",
        "colab_type": "text"
      },
      "source": [
        "### $z=x+y$"
      ]
    },
    {
      "cell_type": "markdown",
      "metadata": {
        "id": "t9Xyu9Tu05Wy",
        "colab_type": "text"
      },
      "source": [
        "$\\frac{\\partial z}{\\partial x}=1$<br>\n",
        "$\\frac{\\partial z}{\\partial y}=1$"
      ]
    },
    {
      "cell_type": "markdown",
      "metadata": {
        "id": "gYiwzzlk05W1",
        "colab_type": "text"
      },
      "source": [
        "<br>\n",
        "<img width=\"500px\" height=\"100px\"/img src=\"https://github.com/asd93/a/blob/master/fig%205-9.PNG?raw=1\">"
      ]
    },
    {
      "cell_type": "markdown",
      "metadata": {
        "id": "wS_hgNzl05W4",
        "colab_type": "text"
      },
      "source": [
        "#### 덧셈 노드의 역전파는 입력값을 그대로 출력"
      ]
    },
    {
      "cell_type": "markdown",
      "metadata": {
        "id": "48yOQEjX05W9",
        "colab_type": "text"
      },
      "source": [
        "## 5.3.2 곱셈 노드의 역전파"
      ]
    },
    {
      "cell_type": "markdown",
      "metadata": {
        "id": "FNrhqC-q05XA",
        "colab_type": "text"
      },
      "source": [
        "### $z=xy$"
      ]
    },
    {
      "cell_type": "markdown",
      "metadata": {
        "id": "MgrEMUmB05XD",
        "colab_type": "text"
      },
      "source": [
        "$\\frac{\\partial z}{\\partial x}=y$<br>\n",
        "$\\frac{\\partial z}{\\partial y}=x$"
      ]
    },
    {
      "cell_type": "markdown",
      "metadata": {
        "id": "CHNgMqRe05XG",
        "colab_type": "text"
      },
      "source": [
        "<br>\n",
        "<img width=\"500px\" height=\"100px\"/img src=\"https://github.com/asd93/a/blob/master/fig%205-12.PNG?raw=1\">\n",
        "* 곱셈 노드의 역전파는 순전파 때의 입력 신호들을 '서로 바꾼 값'을 곱해서 출력\n",
        "<img width=\"500px\" height=\"100px\"/img src=\"https://github.com/asd93/a/blob/master/fig%205-13.PNG?raw=1\">"
      ]
    },
    {
      "cell_type": "markdown",
      "metadata": {
        "id": "3zQGOdDY05XI",
        "colab_type": "text"
      },
      "source": [
        "* 덧셈의 역전파에서는 상류의 값을 그대로 흘려보내서 순방향 입력 값이 필요하지 않지만,곱셈의 역전파는 필요하다.<br>곱셈 노드 구현할 때에는 순전파 입력 신호를 변수에 저장해둔다."
      ]
    },
    {
      "cell_type": "markdown",
      "metadata": {
        "id": "hl8JF-EC05XM",
        "colab_type": "text"
      },
      "source": [
        "## 5.3.3 사과 쇼핑의 예"
      ]
    },
    {
      "cell_type": "markdown",
      "metadata": {
        "id": "MBYLDr9S05XP",
        "colab_type": "text"
      },
      "source": [
        "<br>\n",
        "<img width=\"500px\" height=\"100px\"/img src=\"https://github.com/asd93/a/blob/master/fig%205-14.PNG?raw=1\">"
      ]
    },
    {
      "cell_type": "markdown",
      "metadata": {
        "id": "L6o6Z0Hx05XR",
        "colab_type": "text"
      },
      "source": [
        "* 사과 가격의 미분 : 2.2\n",
        "* 사과 개수의 미분 : 110\n",
        "* 소비세의 미분 : 200\n",
        "<br><br>\n",
        "* 소비세와 사과 가격이 같은 양만큼 오르면 최종 금액에는 소비세가 200의 크기로, 사과 가격이 2.2의 크기로 영향을 준다"
      ]
    }
  ]
}
